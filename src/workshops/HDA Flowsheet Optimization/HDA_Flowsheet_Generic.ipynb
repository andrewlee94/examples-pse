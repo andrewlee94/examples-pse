{
 "cells": [
  {
   "cell_type": "markdown",
   "metadata": {},
   "source": [
    "\n",
    "# HDA Flowsheet Simulation and Optimization\n",
    "\n",
    "\n",
    "## Learning outcomes\n",
    "\n",
    "\n",
    "- Construct a steady-state flowsheet using the IDAES unit model library\n",
    "- Connecting unit models in a  flowsheet using Arcs\n",
    "- Using the SequentialDecomposition tool to initialize a flowsheet with recycle\n",
    "- Fomulate and solve an optimization problem\n",
    "    - Defining an objective function\n",
    "    - Setting variable bounds\n",
    "    - Adding additional constraints \n",
    "\n",
    "\n",
    "## Problem Statement\n",
    "\n",
    "Hydrodealkylation is a chemical reaction that often involves reacting\n",
    "an aromatic hydrocarbon in the presence of hydrogen gas to form a\n",
    "simpler aromatic hydrocarbon devoid of functional groups. In this\n",
    "example, toluene will be reacted with hydrogen gas at high temperatures\n",
    " to form benzene via the following reaction:\n",
    "\n",
    "**C<sub>6</sub>H<sub>5</sub>CH<sub>3</sub> + H<sub>2</sub> → C<sub>6</sub>H<sub>6</sub> + CH<sub>4</sub>**\n",
    "\n",
    "\n",
    "This reaction is often accompanied by an equilibrium side reaction\n",
    "which forms diphenyl, which we will neglect for this example.\n",
    "\n",
    "This example is based on the 1967 AIChE Student Contest problem as\n",
    "present by Douglas, J.M., Chemical  Design of Chemical Processes, 1988,\n",
    "McGraw-Hill.\n",
    "\n",
    "The flowsheet that we will be using for this module is shown below with the stream conditions. We will be processing toluene and hydrogen to produce at least 370 TPY of benzene. As shown in the flowsheet, there are two flash tanks, F101 to separate out the non-condensibles and F102 to further separate the benzene-toluene mixture to improve the benzene purity.  Note that typically a distillation column is required to obtain high purity benzene but that is beyond the scope of this workshop. The non-condensibles separated out in F101 will be partially recycled back to M101 and the rest will be either purged or combusted for power generation.We will assume ideal gas for this flowsheet. The properties required for this module are available in the same directory:\n",
    "\n",
    "- hda_ideal_VLE.py\n",
    "- hda_reaction.py\n",
    "\n",
    "The state variables chosen for the property package are **flows of component by phase, temperature and pressure**. The components considered are: **toluene, hydrogen, benzene and methane**. Therefore, every stream has 8 flow variables, 1 temperature and 1 pressure variable. \n",
    "\n",
    "![](module_2_flowsheet.png)\n",
    "\n",
    "\n"
   ]
  },
  {
   "cell_type": "markdown",
   "metadata": {},
   "source": [
    "## Importing required pyomo and idaes components\n",
    "\n",
    "\n",
    "To construct a flowsheet, we will need several components from the pyomo and idaes package. Let us first import the following components from Pyomo:\n",
    "- Constraint (to write constraints)\n",
    "- Var (to declare variables)\n",
    "- ConcreteModel (to create the concrete model object)\n",
    "- Expression (to evaluate values as a function of variables defined in the model)\n",
    "- Objective (to define an objective function for optimization)\n",
    "- SolverFactory (to solve the problem)\n",
    "- TransformationFactory (to apply certain transformations)\n",
    "- Arc (to connect two unit models)\n",
    "- SequentialDecomposition (to initialize the flowsheet in a sequential mode)\n",
    "\n",
    "For further details on these components, please refer to the pyomo documentation: https://pyomo.readthedocs.io/en/latest/\n"
   ]
  },
  {
   "cell_type": "code",
   "execution_count": 1,
   "metadata": {},
   "outputs": [],
   "source": [
    "from pyomo.environ import (Constraint,\n",
    "                           Var,\n",
    "                           ConcreteModel,\n",
    "                           Expression,\n",
    "                           Objective,\n",
    "                           SolverFactory,\n",
    "                           TransformationFactory,\n",
    "                           value)\n",
    "from pyomo.network import Arc, SequentialDecomposition"
   ]
  },
  {
   "cell_type": "markdown",
   "metadata": {},
   "source": [
    "From idaes, we will be needing the FlowsheetBlock and the following unit models:\n",
    "- Mixer\n",
    "- Heater\n",
    "- StoichiometricReactor\n",
    "- <span style=\"color:blue\">**Flash**</span>\n",
    "- Separator (splitter) \n",
    "- PressureChanger"
   ]
  },
  {
   "cell_type": "code",
   "execution_count": 2,
   "metadata": {},
   "outputs": [],
   "source": [
    "from idaes.core import FlowsheetBlock"
   ]
  },
  {
   "cell_type": "code",
   "execution_count": 3,
   "metadata": {},
   "outputs": [],
   "source": [
    "from idaes.generic_models.unit_models import (PressureChanger,\n",
    "                                        Mixer,\n",
    "                                        Separator as Splitter,\n",
    "                                        Heater,\n",
    "                                        StoichiometricReactor)"
   ]
  },
  {
   "cell_type": "markdown",
   "metadata": {},
   "source": [
    "<div class=\"alert alert-block alert-info\">\n",
    "<b>Inline Exercise:</b>\n",
    "Now, import the remaining unit models highlighted in blue above and run the cell using `Shift+Enter` after typing in the code. \n",
    "</div>\n"
   ]
  },
  {
   "cell_type": "code",
   "execution_count": 4,
   "metadata": {
    "tags": [
     "exercise"
    ]
   },
   "outputs": [],
   "source": [
    "#Todo: import flash model from idaes.generic_models.unit_moels\n"
   ]
  },
  {
   "cell_type": "code",
   "execution_count": 5,
   "metadata": {
    "tags": [
     "solution"
    ]
   },
   "outputs": [],
   "source": [
    "#Todo: import flash model from idaes.generic_models.unit_moels\n",
    "from idaes.generic_models.unit_models import Flash"
   ]
  },
  {
   "cell_type": "markdown",
   "metadata": {},
   "source": [
    "We will also be needing some utility tools to put together the flowsheet and calculate the degrees of freedom. "
   ]
  },
  {
   "cell_type": "code",
   "execution_count": 6,
   "metadata": {},
   "outputs": [],
   "source": [
    "from idaes.generic_models.unit_models.pressure_changer import ThermodynamicAssumption\n",
    "from idaes.core.util.model_statistics import degrees_of_freedom\n",
    "\n",
    "# Import idaes logger to set output levels\n",
    "import idaes.logger as idaeslog"
   ]
  },
  {
   "cell_type": "markdown",
   "metadata": {},
   "source": [
    "## Importing required thermo and reaction package\n",
    "\n",
    "The final set of imports are to import the thermo and reaction package for the HDA process. We have created a custom thermo package that assumes Ideal Gas with support for VLE. \n",
    "\n",
    "The reaction package here is very simple as we will be using only a StochiometricReactor and the reaction package consists of the stochiometric coefficients for the reaction and the parameter for the heat of reaction. \n",
    "\n",
    "Let us import the following modules and they are in the same directory as this jupyter notebook:\n",
    "      <ul>\n",
    "         <li>hda_ideal_VLE as thermo_props</li>\n",
    "         <li>hda_reaction as reaction_props </li>\n",
    "      </ul>\n",
    "</div>"
   ]
  },
  {
   "cell_type": "code",
   "execution_count": 7,
   "metadata": {},
   "outputs": [],
   "source": [
    "from idaes.generic_models.properties.core.generic.generic_property import GenericParameterBlock\n",
    "from BTHM_ideal import configuration\n",
    "#import HDA_ideal_VLE as thermo_props\n",
    "import HDA_reaction as reaction_props"
   ]
  },
  {
   "cell_type": "markdown",
   "metadata": {},
   "source": [
    "## Constructing the Flowsheet\n",
    "\n",
    "We have now imported all the components, unit models, and property modules we need to construct a flowsheet. Let us create a ConcreteModel and add the flowsheet block as we did in module 1. "
   ]
  },
  {
   "cell_type": "code",
   "execution_count": 8,
   "metadata": {},
   "outputs": [],
   "source": [
    "m = ConcreteModel()\n",
    "m.fs = FlowsheetBlock(default={\"dynamic\": False})"
   ]
  },
  {
   "cell_type": "markdown",
   "metadata": {},
   "source": [
    "We now need to add the property packages to the flowsheet. Unlike Module 1, where we only had a thermo property package, for this flowsheet we will also need to add a reaction property package. "
   ]
  },
  {
   "cell_type": "code",
   "execution_count": 9,
   "metadata": {},
   "outputs": [
    {
     "name": "stdout",
     "output_type": "stream",
     "text": [
      "2020-06-19 16:29:53 [WARNING] idaes.core.reaction_base: DEPRECATED: reaction_block_class should not be set directly. Property package developers should set the _reaction_block_class attribute instead.\n"
     ]
    }
   ],
   "source": [
    "m.fs.thermo_params = GenericParameterBlock(default=configuration)\n",
    "m.fs.reaction_params = reaction_props.HDAReactionParameterBlock(\n",
    "        default={\"property_package\": m.fs.thermo_params})"
   ]
  },
  {
   "cell_type": "markdown",
   "metadata": {},
   "source": [
    "## Adding Unit Models\n",
    "\n",
    "Let us start adding the unit models we have imported to the flowsheet. Here, we are adding the Mixer (assigned a name M101) and a Heater (assigned a name H101). Note that, all unit models need to be given a property package argument. In addition to that, there are several arguments depending on the unit model, please refer to the documentation for more details (https://idaes-pse.readthedocs.io/en/latest/model_libraries/core_lib/unit_models/index.html). For example, the Mixer unit model here is given a `list` consisting of names to the three inlets. "
   ]
  },
  {
   "cell_type": "code",
   "execution_count": 10,
   "metadata": {},
   "outputs": [],
   "source": [
    "m.fs.M101 = Mixer(default={\"property_package\": m.fs.thermo_params,\n",
    "                           \"inlet_list\": [\"toluene_feed\", \"hydrogen_feed\", \"vapor_recycle\"]})\n",
    "\n",
    "m.fs.H101 = Heater(default={\"property_package\": m.fs.thermo_params,\n",
    "                            \"has_pressure_change\": False,\n",
    "                            \"has_phase_equilibrium\": True})"
   ]
  },
  {
   "cell_type": "markdown",
   "metadata": {},
   "source": [
    "<div class=\"alert alert-block alert-info\">\n",
    "<b>Inline Exercise:</b>\n",
    "Let us now add the StoichiometricReactor(assign the name R101) and pass the following arguments:\n",
    "      <ul>\n",
    "         <li>\"property_package\": m.fs.thermo_params</li>\n",
    "         <li>\"reaction_package\": m.fs.reaction_params </li>\n",
    "         <li>\"has_heat_of_reaction\": True </li>\n",
    "         <li>\"has_heat_transfer\": True</li>\n",
    "         <li>\"has_pressure_change\": False</li>\n",
    "      </ul>\n",
    "</div>"
   ]
  },
  {
   "cell_type": "code",
   "execution_count": 11,
   "metadata": {
    "tags": [
     "exercise"
    ]
   },
   "outputs": [],
   "source": [
    "#Todo: Add reactor with the specifications above\n"
   ]
  },
  {
   "cell_type": "code",
   "execution_count": 12,
   "metadata": {
    "tags": [
     "solution"
    ]
   },
   "outputs": [],
   "source": [
    "#Todo: Add reactor with the specifications above\n",
    "m.fs.R101 = StoichiometricReactor(\n",
    "            default={\"property_package\": m.fs.thermo_params,\n",
    "                     \"reaction_package\": m.fs.reaction_params,\n",
    "                     \"has_heat_of_reaction\": True,\n",
    "                     \"has_heat_transfer\": True,\n",
    "                     \"has_pressure_change\": False})"
   ]
  },
  {
   "cell_type": "markdown",
   "metadata": {},
   "source": [
    "Let us now add the Flash(assign the name F101) and pass the following arguments:\n",
    "      <ul>\n",
    "         <li>\"property_package\": m.fs.thermo_params</li>\n",
    "         <li>\"has_heat_transfer\": True</li>\n",
    "         <li>\"has_pressure_change\": False</li>\n",
    "      </ul>"
   ]
  },
  {
   "cell_type": "code",
   "execution_count": 13,
   "metadata": {},
   "outputs": [],
   "source": [
    "m.fs.F101 = Flash(default={\"property_package\": m.fs.thermo_params,\n",
    "                               \"has_heat_transfer\": True,\n",
    "                               \"has_pressure_change\": True})"
   ]
  },
  {
   "cell_type": "markdown",
   "metadata": {},
   "source": [
    "Let us now add the Splitter(S101), PressureChanger(C101) and the second Flash(F102). "
   ]
  },
  {
   "cell_type": "code",
   "execution_count": 14,
   "metadata": {},
   "outputs": [],
   "source": [
    "m.fs.S101 = Splitter(default={\"property_package\": m.fs.thermo_params,\n",
    "                               \"ideal_separation\": False,\n",
    "                               \"outlet_list\": [\"purge\", \"recycle\"]})\n",
    "    \n",
    "\n",
    "m.fs.C101 = PressureChanger(default={\n",
    "            \"property_package\": m.fs.thermo_params,\n",
    "            \"compressor\": True,\n",
    "            \"thermodynamic_assumption\": ThermodynamicAssumption.isothermal})\n",
    "    \n",
    "m.fs.F102 = Flash(default={\"property_package\": m.fs.thermo_params,\n",
    "                           \"has_heat_transfer\": True,\n",
    "                           \"has_pressure_change\": True})"
   ]
  },
  {
   "cell_type": "markdown",
   "metadata": {},
   "source": [
    "## Connecting Unit Models using Arcs\n",
    "\n",
    "We have now added all the unit models we need to the flowsheet. However, we have not yet specifed how the units are to be connected. To do this, we will be using the `Arc` which is a pyomo component that takes in two arguments: `source` and `destination`. Let us connect the outlet of the mixer(M101) to the inlet of the heater(H101). "
   ]
  },
  {
   "cell_type": "code",
   "execution_count": 15,
   "metadata": {},
   "outputs": [],
   "source": [
    "m.fs.s03 = Arc(source=m.fs.M101.outlet, destination=m.fs.H101.inlet)"
   ]
  },
  {
   "cell_type": "markdown",
   "metadata": {},
   "source": [
    "\n",
    "![](module_2_flowsheet.png) \n",
    "\n",
    "<div class=\"alert alert-block alert-info\">\n",
    "<b>Inline Exercise:</b>\n",
    "Now, connect the H101 outlet to the R101 inlet using the cell above as a guide. \n",
    "</div>\n",
    "\n"
   ]
  },
  {
   "cell_type": "code",
   "execution_count": 16,
   "metadata": {
    "tags": [
     "exercise"
    ]
   },
   "outputs": [],
   "source": [
    "#Todo: Connect the H101 outlet to R101 inlet\n"
   ]
  },
  {
   "cell_type": "code",
   "execution_count": 17,
   "metadata": {
    "tags": [
     "solution"
    ]
   },
   "outputs": [],
   "source": [
    "#Todo: Connect the H101 outlet to R101 inlet\n",
    "m.fs.s04 = Arc(source=m.fs.H101.outlet, destination=m.fs.R101.inlet)"
   ]
  },
  {
   "cell_type": "markdown",
   "metadata": {},
   "source": [
    "We will now be connecting the rest of the flowsheet as shown below. Notice how the outlet names are different for the flash tanks F101 and F102 as they have a vapor and a liquid outlet. "
   ]
  },
  {
   "cell_type": "code",
   "execution_count": 18,
   "metadata": {},
   "outputs": [],
   "source": [
    "m.fs.s05 = Arc(source=m.fs.R101.outlet, destination=m.fs.F101.inlet)\n",
    "m.fs.s06 = Arc(source=m.fs.F101.vap_outlet, destination=m.fs.S101.inlet)\n",
    "m.fs.s08 = Arc(source=m.fs.S101.recycle, destination=m.fs.C101.inlet)\n",
    "m.fs.s09 = Arc(source=m.fs.C101.outlet,\n",
    "               destination=m.fs.M101.vapor_recycle)\n",
    "m.fs.s10 = Arc(source=m.fs.F101.liq_outlet, destination=m.fs.F102.inlet)"
   ]
  },
  {
   "cell_type": "markdown",
   "metadata": {},
   "source": [
    "We have now connected the unit model block using the arcs. However, each of these arcs link to ports on the two unit models that are connected. In this case, the ports consist of the state variables that need to be linked between the unit models. Pyomo provides a convenient method to write these equality constraints for us between two ports and this is done as follows:"
   ]
  },
  {
   "cell_type": "code",
   "execution_count": 19,
   "metadata": {},
   "outputs": [],
   "source": [
    "TransformationFactory(\"network.expand_arcs\").apply_to(m)"
   ]
  },
  {
   "cell_type": "markdown",
   "metadata": {},
   "source": [
    "## Adding expressions to compute purity and operating costs\n",
    "\n",
    "In this section, we will add a few Expressions that allows us to evaluate the performance. Expressions provide a convenient way of calculating certain values that are a function of the variables defined in the model. For more details on Expressions, please refer to: https://pyomo.readthedocs.io/en/latest/pyomo_modeling_components/Expressions.html\n",
    "\n",
    "For this flowsheet, we are interested in computing the purity of the product Benzene stream (i.e. the mole fraction) and the operating cost which is a sum of the cooling and heating cost. "
   ]
  },
  {
   "cell_type": "markdown",
   "metadata": {},
   "source": [
    "Let us first add an Expression to compute the mole fraction of benzene in the `vap_outlet` of F102 which is our product stream. Please note that the var flow_mol_phase_comp has the index - [time, phase, component]. As this is a steady-state flowsheet, the time index by default is 0. The valid phases are [\"Liq\", \"Vap\"]. Similarly the valid component list is [\"benzene\", \"toluene\", \"hydrogen\", \"methane\"]."
   ]
  },
  {
   "cell_type": "code",
   "execution_count": 20,
   "metadata": {},
   "outputs": [],
   "source": [
    "m.fs.purity = Expression(\n",
    "        expr=m.fs.F102.vap_outlet.flow_mol_phase_comp[0, \"Vap\", \"benzene\"] /\n",
    "        (m.fs.F102.vap_outlet.flow_mol_phase_comp[0, \"Vap\", \"benzene\"]\n",
    "         + m.fs.F102.vap_outlet.flow_mol_phase_comp[0, \"Vap\", \"toluene\"]))"
   ]
  },
  {
   "cell_type": "markdown",
   "metadata": {},
   "source": [
    "Now, let us add an expression to compute the cooling cost assuming a cost of 0.212E-4 $/kW. Note that cooling utility is required for the reactor (R101) and the first flash (F101). "
   ]
  },
  {
   "cell_type": "code",
   "execution_count": 21,
   "metadata": {},
   "outputs": [],
   "source": [
    "m.fs.cooling_cost = Expression(expr=0.212e-7 * (-m.fs.F101.heat_duty[0]) +\n",
    "                                   0.212e-7 * (-m.fs.R101.heat_duty[0]))"
   ]
  },
  {
   "cell_type": "markdown",
   "metadata": {},
   "source": [
    "\n",
    "Now, let us add an expression to compute the heating cost assuming the utility cost as follows:\n",
    "      <ul>\n",
    "         <li>2.2E-4 dollars/kW for H101</li>\n",
    "         <li>1.9E-4 dollars/kW for F102</li>\n",
    "      </ul>\n",
    "Note that the heat duty is in units of watt (J/s). "
   ]
  },
  {
   "cell_type": "code",
   "execution_count": 22,
   "metadata": {},
   "outputs": [],
   "source": [
    "m.fs.heating_cost = Expression(expr=2.2e-7 * m.fs.H101.heat_duty[0] +\n",
    "                                   1.9e-7 * m.fs.F102.heat_duty[0])"
   ]
  },
  {
   "cell_type": "markdown",
   "metadata": {},
   "source": [
    "Let us now add an expression to compute the total operating cost per year which is basically the sum of the cooling and heating cost we defined above. "
   ]
  },
  {
   "cell_type": "code",
   "execution_count": 23,
   "metadata": {},
   "outputs": [],
   "source": [
    "m.fs.operating_cost = Expression(expr=(3600 * 24 * 365 *\n",
    "                                           (m.fs.heating_cost +\n",
    "                                            m.fs.cooling_cost)))"
   ]
  },
  {
   "cell_type": "markdown",
   "metadata": {},
   "source": [
    "## Fixing feed conditions\n",
    "\n",
    "Let us first check how many degrees of freedom exist for this flowsheet using the `degrees_of_freedom` tool we imported earlier. "
   ]
  },
  {
   "cell_type": "code",
   "execution_count": 24,
   "metadata": {},
   "outputs": [
    {
     "name": "stdout",
     "output_type": "stream",
     "text": [
      "25\n"
     ]
    }
   ],
   "source": [
    "print(degrees_of_freedom(m))"
   ]
  },
  {
   "cell_type": "code",
   "execution_count": 26,
   "metadata": {
    "tags": [
     "testing",
     "remove_cell"
    ]
   },
   "outputs": [],
   "source": [
    "# Check the degrees of freedom\n",
    "assert degrees_of_freedom(m) == 25 # Fewer DoF due to non-condensables"
   ]
  },
  {
   "cell_type": "markdown",
   "metadata": {},
   "source": [
    "We will now be fixing the toluene feed stream to the conditions shown in the flowsheet above. Please note that though this is a pure toluene feed, the remaining components are still assigned a very small non-zero value to help with convergence and initializing. "
   ]
  },
  {
   "cell_type": "code",
   "execution_count": 28,
   "metadata": {},
   "outputs": [],
   "source": [
    "m.fs.M101.toluene_feed.flow_mol_phase_comp[0, \"Vap\", \"benzene\"].fix(1e-5)\n",
    "m.fs.M101.toluene_feed.flow_mol_phase_comp[0, \"Vap\", \"toluene\"].fix(1e-5)\n",
    "m.fs.M101.toluene_feed.flow_mol_phase_comp[0, \"Vap\", \"hydrogen\"].fix(1e-5)\n",
    "m.fs.M101.toluene_feed.flow_mol_phase_comp[0, \"Vap\", \"methane\"].fix(1e-5)\n",
    "m.fs.M101.toluene_feed.flow_mol_phase_comp[0, \"Liq\", \"benzene\"].fix(1e-5)\n",
    "m.fs.M101.toluene_feed.flow_mol_phase_comp[0, \"Liq\", \"toluene\"].fix(0.30)\n",
    "#m.fs.M101.toluene_feed.flow_mol_phase_comp[0, \"Liq\", \"hydrogen\"].fix(1e-5)\n",
    "#m.fs.M101.toluene_feed.flow_mol_phase_comp[0, \"Liq\", \"methane\"].fix(1e-5)\n",
    "m.fs.M101.toluene_feed.temperature.fix(303.2)\n",
    "m.fs.M101.toluene_feed.pressure.fix(350000)"
   ]
  },
  {
   "cell_type": "markdown",
   "metadata": {},
   "source": [
    "\n",
    "Similarly, let us fix the hydrogen feed to the following conditions in the next cell:\n",
    "      <ul>\n",
    "         <li>F<sub>H2</sub> = 0.30 mol/s</li>\n",
    "         <li>F<sub>CH4</sub> = 0.02 mol/s</li>\n",
    "         <li>Remaining components = 1e-5 mol/s</li>\n",
    "         <li>T = 303.2 K</li>\n",
    "         <li>P = 350000 Pa</li>\n",
    "      </ul>\n",
    "\n"
   ]
  },
  {
   "cell_type": "code",
   "execution_count": 29,
   "metadata": {},
   "outputs": [],
   "source": [
    "m.fs.M101.hydrogen_feed.flow_mol_phase_comp[0, \"Vap\", \"benzene\"].fix(1e-5)\n",
    "m.fs.M101.hydrogen_feed.flow_mol_phase_comp[0, \"Vap\", \"toluene\"].fix(1e-5)\n",
    "m.fs.M101.hydrogen_feed.flow_mol_phase_comp[0, \"Vap\", \"hydrogen\"].fix(0.30)\n",
    "m.fs.M101.hydrogen_feed.flow_mol_phase_comp[0, \"Vap\", \"methane\"].fix(0.02)\n",
    "m.fs.M101.hydrogen_feed.flow_mol_phase_comp[0, \"Liq\", \"benzene\"].fix(1e-5)\n",
    "m.fs.M101.hydrogen_feed.flow_mol_phase_comp[0, \"Liq\", \"toluene\"].fix(1e-5)\n",
    "#m.fs.M101.hydrogen_feed.flow_mol_phase_comp[0, \"Liq\", \"hydrogen\"].fix(1e-5)\n",
    "#m.fs.M101.hydrogen_feed.flow_mol_phase_comp[0, \"Liq\", \"methane\"].fix(1e-5)\n",
    "m.fs.M101.hydrogen_feed.temperature.fix(303.2)\n",
    "m.fs.M101.hydrogen_feed.pressure.fix(350000)"
   ]
  },
  {
   "cell_type": "markdown",
   "metadata": {},
   "source": [
    "## Fixing unit model specifications\n",
    "\n",
    "Now that we have fixed our inlet feed conditions, we will now be fixing the operating conditions for the unit models in the flowsheet. Let us set set the H101 outlet temperature to 600 K. "
   ]
  },
  {
   "cell_type": "code",
   "execution_count": 30,
   "metadata": {},
   "outputs": [],
   "source": [
    "m.fs.H101.outlet.temperature.fix(600)"
   ]
  },
  {
   "cell_type": "markdown",
   "metadata": {},
   "source": [
    "For the StoichiometricReactor, we have to define the conversion in terms of toluene. This requires us to create a new variable for specifying the conversion and adding a Constraint that defines the conversion with respect to toluene. The second degree of freedom for the reactor is to define the heat duty. In this case, let us assume the reactor to be adiabatic i.e. Q = 0. "
   ]
  },
  {
   "cell_type": "code",
   "execution_count": 31,
   "metadata": {},
   "outputs": [],
   "source": [
    "m.fs.R101.conversion = Var(initialize=0.75, bounds=(0, 1))\n",
    "\n",
    "m.fs.R101.conv_constraint = Constraint(\n",
    "    expr=m.fs.R101.conversion*m.fs.R101.inlet.\n",
    "    flow_mol_phase_comp[0, \"Vap\", \"toluene\"] ==\n",
    "    (m.fs.R101.inlet.flow_mol_phase_comp[0, \"Vap\", \"toluene\"] -\n",
    "     m.fs.R101.outlet.flow_mol_phase_comp[0, \"Vap\", \"toluene\"]))\n",
    "\n",
    "m.fs.R101.conversion.fix(0.75)\n",
    "m.fs.R101.heat_duty.fix(0)"
   ]
  },
  {
   "cell_type": "markdown",
   "metadata": {},
   "source": [
    "The Flash conditions for F101 can be set as follows. "
   ]
  },
  {
   "cell_type": "code",
   "execution_count": 32,
   "metadata": {},
   "outputs": [],
   "source": [
    "m.fs.F101.vap_outlet.temperature.fix(325.0)\n",
    "m.fs.F101.deltaP.fix(0)"
   ]
  },
  {
   "cell_type": "markdown",
   "metadata": {},
   "source": [
    "<div class=\"alert alert-block alert-info\">\n",
    "<b>Inline Exercise:</b>\n",
    "Set the conditions for Flash F102 to the following conditions:\n",
    "      <ul>\n",
    "         <li>T = 375 K</li>\n",
    "         <li>deltaP = -200000</li>\n",
    "      </ul>\n",
    "\n",
    "Use Shift+Enter to run the cell once you have typed in your code. \n",
    "</div>"
   ]
  },
  {
   "cell_type": "code",
   "execution_count": 33,
   "metadata": {
    "tags": [
     "exercise"
    ]
   },
   "outputs": [],
   "source": [
    "#Todo: Set conditions for Flash F102\n"
   ]
  },
  {
   "cell_type": "code",
   "execution_count": 34,
   "metadata": {
    "tags": [
     "solution"
    ]
   },
   "outputs": [],
   "source": [
    "m.fs.F102.vap_outlet.temperature.fix(370)  # reduced T here\n",
    "m.fs.F102.deltaP.fix(-200000)"
   ]
  },
  {
   "cell_type": "markdown",
   "metadata": {},
   "source": [
    "Let us fix the purge split fraction to 20% and the outlet pressure of the compressor is set to 350000 Pa. "
   ]
  },
  {
   "cell_type": "code",
   "execution_count": 35,
   "metadata": {},
   "outputs": [],
   "source": [
    "m.fs.S101.split_fraction[0, \"purge\"].fix(0.2)\n",
    "m.fs.C101.outlet.pressure.fix(350000)"
   ]
  },
  {
   "cell_type": "markdown",
   "metadata": {},
   "source": [
    "<div class=\"alert alert-block alert-info\">\n",
    "<b>Inline Exercise:</b>\n",
    "We have now defined all the feed conditions and the inputs required for the unit models. The system should now have 0 degrees of freedom i.e. should be a square problem. Please check that the degrees of freedom is 0. \n",
    "\n",
    "Use Shift+Enter to run the cell once you have typed in your code. \n",
    "</div>"
   ]
  },
  {
   "cell_type": "code",
   "execution_count": 36,
   "metadata": {
    "tags": [
     "exercise"
    ]
   },
   "outputs": [],
   "source": [
    "#Todo: print the degrees of freedom\n"
   ]
  },
  {
   "cell_type": "code",
   "execution_count": 37,
   "metadata": {
    "tags": [
     "solution"
    ]
   },
   "outputs": [
    {
     "name": "stdout",
     "output_type": "stream",
     "text": [
      "0\n"
     ]
    }
   ],
   "source": [
    "print(degrees_of_freedom(m))"
   ]
  },
  {
   "cell_type": "code",
   "execution_count": 38,
   "metadata": {
    "tags": [
     "testing",
     "remove_cell"
    ]
   },
   "outputs": [],
   "source": [
    "# Check the degrees of freedom\n",
    "assert degrees_of_freedom(m) == 0"
   ]
  },
  {
   "cell_type": "markdown",
   "metadata": {},
   "source": [
    "## Initialization\n",
    "\n",
    "\n",
    "This section will demonstrate how to use the built-in sequential decomposition tool to initialize our flowsheet.\n",
    "\n",
    "![](module_2_flowsheet.png) \n"
   ]
  },
  {
   "cell_type": "markdown",
   "metadata": {},
   "source": [
    "Let us first create an object for the SequentialDecomposition and specify our options for this. "
   ]
  },
  {
   "cell_type": "code",
   "execution_count": 39,
   "metadata": {},
   "outputs": [],
   "source": [
    "seq = SequentialDecomposition()\n",
    "seq.options.select_tear_method = \"heuristic\"\n",
    "seq.options.tear_method = \"Wegstein\"\n",
    "seq.options.iterLim = 5\n",
    "\n",
    "# Using the SD tool\n",
    "G = seq.create_graph(m)\n",
    "heuristic_tear_set = seq.tear_set_arcs(G, method=\"heuristic\")\n",
    "order = seq.calculation_order(G)"
   ]
  },
  {
   "cell_type": "markdown",
   "metadata": {},
   "source": [
    "Which is the tear stream? Display tear set and order"
   ]
  },
  {
   "cell_type": "code",
   "execution_count": 40,
   "metadata": {},
   "outputs": [
    {
     "name": "stdout",
     "output_type": "stream",
     "text": [
      "fs.s03\n"
     ]
    }
   ],
   "source": [
    "for o in heuristic_tear_set:\n",
    "    print(o.name)"
   ]
  },
  {
   "cell_type": "markdown",
   "metadata": {},
   "source": [
    "What sequence did the SD tool determine to solve this flowsheet with the least number of tears? "
   ]
  },
  {
   "cell_type": "code",
   "execution_count": 41,
   "metadata": {
    "scrolled": true
   },
   "outputs": [
    {
     "name": "stdout",
     "output_type": "stream",
     "text": [
      "fs.H101\n",
      "fs.R101\n",
      "fs.F101\n",
      "fs.S101\n",
      "fs.C101\n",
      "fs.M101\n"
     ]
    }
   ],
   "source": [
    "for o in order:\n",
    "    print(o[0].name)"
   ]
  },
  {
   "cell_type": "markdown",
   "metadata": {},
   "source": [
    " \n",
    "\n",
    "![](module_2_tear_stream.png) \n",
    "\n",
    "\n",
    "The SequentialDecomposition tool has determined that the tear stream is the mixer outlet. We will need to provide a reasonable guess for this."
   ]
  },
  {
   "cell_type": "code",
   "execution_count": 43,
   "metadata": {},
   "outputs": [],
   "source": [
    "tear_guesses = {\n",
    "        \"flow_mol_phase_comp\": {\n",
    "                (0, \"Vap\", \"benzene\"): 1e-5,\n",
    "                (0, \"Vap\", \"toluene\"): 1e-5,\n",
    "                (0, \"Vap\", \"hydrogen\"): 0.30,\n",
    "                (0, \"Vap\", \"methane\"): 0.02,\n",
    "                (0, \"Liq\", \"benzene\"): 1e-5,\n",
    "                (0, \"Liq\", \"toluene\"): 0.30},#,\n",
    "                #(0, \"Liq\", \"hydrogen\"): 1e-5,\n",
    "                #(0, \"Liq\", \"methane\"): 1e-5},\n",
    "        \"temperature\": {0: 303},\n",
    "        \"pressure\": {0: 350000}}\n",
    "\n",
    "# Pass the tear_guess to the SD tool\n",
    "seq.set_guesses_for(m.fs.H101.inlet, tear_guesses)"
   ]
  },
  {
   "cell_type": "markdown",
   "metadata": {},
   "source": [
    "Next, we need to tell the tool how to initialize a particular unit. We will be writing a python function which takes in a \"unit\" and calls the initialize method on that unit. "
   ]
  },
  {
   "cell_type": "code",
   "execution_count": 44,
   "metadata": {},
   "outputs": [],
   "source": [
    "def function(unit):\n",
    "        unit.initialize(outlvl=idaeslog.INFO)"
   ]
  },
  {
   "cell_type": "markdown",
   "metadata": {},
   "source": [
    "We are now ready to initialize our flowsheet in a sequential mode. Note that we specifically set the iteration limit to be 5 as we are trying to use this tool only to get a good set of initial values such that IPOPT can then take over and solve this flowsheet for us. "
   ]
  },
  {
   "cell_type": "code",
   "execution_count": 45,
   "metadata": {},
   "outputs": [
    {
     "name": "stdout",
     "output_type": "stream",
     "text": [
      "2020-06-19 16:31:53 [INFO] idaes.init.fs.H101.control_volume.properties_in: Starting initialization\n",
      "2020-06-19 16:31:53 [INFO] idaes.init.fs.H101.control_volume.properties_in: State variable initialization completed.\n",
      "2020-06-19 16:31:53 [INFO] idaes.init.fs.H101.control_volume.properties_in: Property initialization: optimal - Optimal Solution Found.\n",
      "2020-06-19 16:31:53 [INFO] idaes.init.fs.H101.control_volume.properties_out: Starting initialization\n",
      "2020-06-19 16:31:53 [INFO] idaes.init.fs.H101.control_volume.properties_out: Dew and bubble point initialization: optimal - Optimal Solution Found.\n",
      "2020-06-19 16:31:53 [INFO] idaes.init.fs.H101.control_volume.properties_out: Equilibrium temperature initialization completed.\n",
      "2020-06-19 16:31:53 [INFO] idaes.init.fs.H101.control_volume.properties_out: State variable initialization completed.\n",
      "2020-06-19 16:31:53 [INFO] idaes.init.fs.H101.control_volume.properties_out: Phase equilibrium initialization: optimal - Optimal Solution Found.\n",
      "2020-06-19 16:31:53 [INFO] idaes.init.fs.H101.control_volume: Initialization Complete\n",
      "2020-06-19 16:31:53 [INFO] idaes.init.fs.H101: Initialization Complete: optimal - Optimal Solution Found\n",
      "2020-06-19 16:31:53 [INFO] idaes.init.fs.R101.control_volume.properties_in: Starting initialization\n",
      "2020-06-19 16:31:53 [INFO] idaes.init.fs.R101.control_volume.properties_in: State variable initialization completed.\n",
      "2020-06-19 16:31:53 [INFO] idaes.init.fs.R101.control_volume.properties_in: Property initialization: optimal - Optimal Solution Found.\n",
      "2020-06-19 16:31:53 [INFO] idaes.init.fs.R101.control_volume.properties_out: Starting initialization\n",
      "2020-06-19 16:31:53 [INFO] idaes.init.fs.R101.control_volume.properties_out: Dew and bubble point initialization: optimal - Optimal Solution Found.\n",
      "2020-06-19 16:31:53 [INFO] idaes.init.fs.R101.control_volume.properties_out: Equilibrium temperature initialization completed.\n",
      "2020-06-19 16:31:53 [INFO] idaes.init.fs.R101.control_volume.properties_out: State variable initialization completed.\n",
      "2020-06-19 16:31:53 [INFO] idaes.init.fs.R101.control_volume.properties_out: Phase equilibrium initialization: optimal - Optimal Solution Found.\n",
      "2020-06-19 16:31:53 [INFO] idaes.init.fs.R101.control_volume: Initialization Complete\n",
      "2020-06-19 16:31:53 [INFO] idaes.init.fs.R101: Initialization Complete: optimal - Optimal Solution Found\n",
      "2020-06-19 16:31:53 [INFO] idaes.init.fs.F101.control_volume.properties_in: Starting initialization\n",
      "2020-06-19 16:31:53 [INFO] idaes.init.fs.F101.control_volume.properties_in: State variable initialization completed.\n",
      "2020-06-19 16:31:53 [INFO] idaes.init.fs.F101.control_volume.properties_in: Property initialization: optimal - Optimal Solution Found.\n",
      "2020-06-19 16:31:53 [INFO] idaes.init.fs.F101.control_volume.properties_out: Starting initialization\n",
      "2020-06-19 16:31:53 [INFO] idaes.init.fs.F101.control_volume.properties_out: Dew and bubble point initialization: optimal - Optimal Solution Found.\n",
      "2020-06-19 16:31:53 [INFO] idaes.init.fs.F101.control_volume.properties_out: Equilibrium temperature initialization completed.\n",
      "2020-06-19 16:31:53 [INFO] idaes.init.fs.F101.control_volume.properties_out: State variable initialization completed.\n",
      "2020-06-19 16:31:54 [INFO] idaes.init.fs.F101.control_volume.properties_out: Phase equilibrium initialization: optimal - Optimal Solution Found.\n",
      "2020-06-19 16:31:54 [INFO] idaes.init.fs.F101.control_volume: Initialization Complete\n",
      "2020-06-19 16:31:54 [INFO] idaes.init.fs.F101: Initialization Complete: optimal - Optimal Solution Found\n",
      "2020-06-19 16:31:54 [INFO] idaes.init.fs.S101.mixed_state: Starting initialization\n",
      "2020-06-19 16:31:54 [INFO] idaes.init.fs.S101.mixed_state: State variable initialization completed.\n",
      "2020-06-19 16:31:54 [INFO] idaes.init.fs.S101.mixed_state: Property initialization: optimal - Optimal Solution Found.\n",
      "2020-06-19 16:31:54 [INFO] idaes.init.fs.S101.purge_state: Starting initialization\n",
      "2020-06-19 16:31:54 [INFO] idaes.init.fs.S101.purge_state: Dew and bubble point initialization: optimal - Optimal Solution Found.\n",
      "2020-06-19 16:31:54 [INFO] idaes.init.fs.S101.purge_state: Equilibrium temperature initialization completed.\n",
      "2020-06-19 16:31:54 [INFO] idaes.init.fs.S101.purge_state: State variable initialization completed.\n",
      "2020-06-19 16:31:54 [INFO] idaes.init.fs.S101.purge_state: Phase equilibrium initialization: optimal - Optimal Solution Found.\n",
      "2020-06-19 16:31:54 [INFO] idaes.init.fs.S101.purge_state: Property package initialization: optimal - Optimal Solution Found.\n",
      "2020-06-19 16:31:54 [INFO] idaes.init.fs.S101.recycle_state: Starting initialization\n",
      "2020-06-19 16:31:54 [INFO] idaes.init.fs.S101.recycle_state: Dew and bubble point initialization: optimal - Optimal Solution Found.\n",
      "2020-06-19 16:31:54 [INFO] idaes.init.fs.S101.recycle_state: Equilibrium temperature initialization completed.\n",
      "2020-06-19 16:31:54 [INFO] idaes.init.fs.S101.recycle_state: State variable initialization completed.\n",
      "2020-06-19 16:31:54 [INFO] idaes.init.fs.S101.recycle_state: Phase equilibrium initialization: optimal - Optimal Solution Found.\n",
      "2020-06-19 16:31:54 [INFO] idaes.init.fs.S101.recycle_state: Property package initialization: optimal - Optimal Solution Found.\n",
      "2020-06-19 16:31:54 [INFO] idaes.init.fs.S101: Initialization Step 2 Complete: optimal - Optimal Solution Found\n",
      "2020-06-19 16:31:54 [INFO] idaes.init.fs.F102.control_volume.properties_in: Starting initialization\n",
      "2020-06-19 16:31:54 [INFO] idaes.init.fs.F102.control_volume.properties_in: State variable initialization completed.\n",
      "2020-06-19 16:31:54 [INFO] idaes.init.fs.F102.control_volume.properties_in: Property initialization: optimal - Optimal Solution Found.\n",
      "2020-06-19 16:31:54 [INFO] idaes.init.fs.F102.control_volume.properties_out: Starting initialization\n",
      "2020-06-19 16:31:54 [INFO] idaes.init.fs.F102.control_volume.properties_out: Dew and bubble point initialization: optimal - Optimal Solution Found.\n",
      "2020-06-19 16:31:54 [INFO] idaes.init.fs.F102.control_volume.properties_out: Equilibrium temperature initialization completed.\n",
      "2020-06-19 16:31:54 [INFO] idaes.init.fs.F102.control_volume.properties_out: State variable initialization completed.\n",
      "2020-06-19 16:31:54 [INFO] idaes.init.fs.F102.control_volume.properties_out: Phase equilibrium initialization: optimal - Optimal Solution Found.\n",
      "2020-06-19 16:31:54 [INFO] idaes.init.fs.F102.control_volume: Initialization Complete\n",
      "2020-06-19 16:31:54 [INFO] idaes.init.fs.F102: Initialization Complete: optimal - Optimal Solution Found\n",
      "2020-06-19 16:31:54 [INFO] idaes.init.fs.C101.control_volume.properties_in: Starting initialization\n",
      "2020-06-19 16:31:54 [INFO] idaes.init.fs.C101.control_volume.properties_in: State variable initialization completed.\n",
      "2020-06-19 16:31:54 [INFO] idaes.init.fs.C101.control_volume.properties_in: Property initialization: optimal - Optimal Solution Found.\n",
      "2020-06-19 16:31:54 [INFO] idaes.init.fs.C101.control_volume.properties_out: Starting initialization\n",
      "2020-06-19 16:31:54 [INFO] idaes.init.fs.C101.control_volume.properties_out: Dew and bubble point initialization: optimal - Optimal Solution Found.\n",
      "2020-06-19 16:31:54 [INFO] idaes.init.fs.C101.control_volume.properties_out: Equilibrium temperature initialization completed.\n",
      "2020-06-19 16:31:54 [INFO] idaes.init.fs.C101.control_volume.properties_out: State variable initialization completed.\n",
      "2020-06-19 16:31:54 [INFO] idaes.init.fs.C101.control_volume.properties_out: Phase equilibrium initialization: optimal - Optimal Solution Found.\n",
      "2020-06-19 16:31:54 [INFO] idaes.init.fs.C101.control_volume: Initialization Complete\n",
      "2020-06-19 16:31:55 [INFO] idaes.init.fs.C101: Initialization Complete: optimal - Optimal Solution Found\n",
      "2020-06-19 16:31:55 [INFO] idaes.init.fs.M101.toluene_feed_state: Starting initialization\n",
      "2020-06-19 16:31:55 [INFO] idaes.init.fs.M101.toluene_feed_state: State variable initialization completed.\n",
      "2020-06-19 16:31:55 [INFO] idaes.init.fs.M101.toluene_feed_state: Property initialization: optimal - Optimal Solution Found.\n",
      "2020-06-19 16:31:55 [INFO] idaes.init.fs.M101.hydrogen_feed_state: Starting initialization\n",
      "2020-06-19 16:31:55 [INFO] idaes.init.fs.M101.hydrogen_feed_state: State variable initialization completed.\n"
     ]
    },
    {
     "name": "stdout",
     "output_type": "stream",
     "text": [
      "2020-06-19 16:31:55 [INFO] idaes.init.fs.M101.hydrogen_feed_state: Property initialization: optimal - Optimal Solution Found.\n",
      "2020-06-19 16:31:55 [INFO] idaes.init.fs.M101.vapor_recycle_state: Starting initialization\n",
      "2020-06-19 16:31:55 [INFO] idaes.init.fs.M101.vapor_recycle_state: State variable initialization completed.\n",
      "2020-06-19 16:31:55 [INFO] idaes.init.fs.M101.vapor_recycle_state: Property initialization: optimal - Optimal Solution Found.\n",
      "2020-06-19 16:31:55 [INFO] idaes.init.fs.M101.mixed_state: Starting initialization\n",
      "2020-06-19 16:31:55 [INFO] idaes.init.fs.M101.mixed_state: Dew and bubble point initialization: optimal - Optimal Solution Found.\n",
      "2020-06-19 16:31:55 [INFO] idaes.init.fs.M101.mixed_state: Equilibrium temperature initialization completed.\n",
      "2020-06-19 16:31:55 [INFO] idaes.init.fs.M101.mixed_state: State variable initialization completed.\n",
      "2020-06-19 16:31:55 [INFO] idaes.init.fs.M101.mixed_state: Phase equilibrium initialization: optimal - Optimal Solution Found.\n",
      "2020-06-19 16:31:55 [INFO] idaes.init.fs.M101.mixed_state: Property package initialization: optimal - Optimal Solution Found.\n",
      "2020-06-19 16:31:55 [INFO] idaes.init.fs.M101: Initialization Complete: optimal - Optimal Solution Found\n",
      "2020-06-19 16:31:55 [INFO] idaes.init.fs.H101.control_volume.properties_in: Starting initialization\n",
      "2020-06-19 16:31:55 [INFO] idaes.init.fs.H101.control_volume.properties_in: State variable initialization completed.\n",
      "2020-06-19 16:31:55 [INFO] idaes.init.fs.H101.control_volume.properties_in: Property initialization: optimal - Optimal Solution Found.\n",
      "2020-06-19 16:31:55 [INFO] idaes.init.fs.H101.control_volume.properties_out: Starting initialization\n",
      "2020-06-19 16:31:55 [INFO] idaes.init.fs.H101.control_volume.properties_out: Dew and bubble point initialization: optimal - Optimal Solution Found.\n",
      "2020-06-19 16:31:55 [INFO] idaes.init.fs.H101.control_volume.properties_out: Equilibrium temperature initialization completed.\n",
      "2020-06-19 16:31:55 [INFO] idaes.init.fs.H101.control_volume.properties_out: State variable initialization completed.\n",
      "2020-06-19 16:31:55 [INFO] idaes.init.fs.H101.control_volume.properties_out: Phase equilibrium initialization: optimal - Optimal Solution Found.\n",
      "2020-06-19 16:31:55 [INFO] idaes.init.fs.H101.control_volume: Initialization Complete\n",
      "2020-06-19 16:31:55 [INFO] idaes.init.fs.H101: Initialization Complete: optimal - Optimal Solution Found\n",
      "2020-06-19 16:31:55 [INFO] idaes.init.fs.R101.control_volume.properties_in: Starting initialization\n",
      "2020-06-19 16:31:55 [INFO] idaes.init.fs.R101.control_volume.properties_in: State variable initialization completed.\n",
      "2020-06-19 16:31:55 [INFO] idaes.init.fs.R101.control_volume.properties_in: Property initialization: optimal - Optimal Solution Found.\n",
      "2020-06-19 16:31:55 [INFO] idaes.init.fs.R101.control_volume.properties_out: Starting initialization\n",
      "2020-06-19 16:31:55 [INFO] idaes.init.fs.R101.control_volume.properties_out: Dew and bubble point initialization: optimal - Optimal Solution Found.\n",
      "2020-06-19 16:31:55 [INFO] idaes.init.fs.R101.control_volume.properties_out: Equilibrium temperature initialization completed.\n",
      "2020-06-19 16:31:55 [INFO] idaes.init.fs.R101.control_volume.properties_out: State variable initialization completed.\n",
      "2020-06-19 16:31:56 [INFO] idaes.init.fs.R101.control_volume.properties_out: Phase equilibrium initialization: optimal - Optimal Solution Found.\n",
      "2020-06-19 16:31:56 [INFO] idaes.init.fs.R101.control_volume: Initialization Complete\n",
      "2020-06-19 16:31:56 [INFO] idaes.init.fs.R101: Initialization Complete: optimal - Optimal Solution Found\n",
      "2020-06-19 16:31:56 [INFO] idaes.init.fs.F101.control_volume.properties_in: Starting initialization\n",
      "2020-06-19 16:31:56 [INFO] idaes.init.fs.F101.control_volume.properties_in: State variable initialization completed.\n",
      "2020-06-19 16:31:56 [INFO] idaes.init.fs.F101.control_volume.properties_in: Property initialization: optimal - Optimal Solution Found.\n",
      "2020-06-19 16:31:56 [INFO] idaes.init.fs.F101.control_volume.properties_out: Starting initialization\n",
      "2020-06-19 16:31:56 [INFO] idaes.init.fs.F101.control_volume.properties_out: Dew and bubble point initialization: optimal - Optimal Solution Found.\n",
      "2020-06-19 16:31:56 [INFO] idaes.init.fs.F101.control_volume.properties_out: Equilibrium temperature initialization completed.\n",
      "2020-06-19 16:31:56 [INFO] idaes.init.fs.F101.control_volume.properties_out: State variable initialization completed.\n",
      "2020-06-19 16:31:56 [INFO] idaes.init.fs.F101.control_volume.properties_out: Phase equilibrium initialization: optimal - Optimal Solution Found.\n",
      "2020-06-19 16:31:56 [INFO] idaes.init.fs.F101.control_volume: Initialization Complete\n",
      "2020-06-19 16:31:56 [INFO] idaes.init.fs.F101: Initialization Complete: optimal - Optimal Solution Found\n",
      "2020-06-19 16:31:56 [INFO] idaes.init.fs.S101.mixed_state: Starting initialization\n",
      "2020-06-19 16:31:56 [INFO] idaes.init.fs.S101.mixed_state: State variable initialization completed.\n",
      "2020-06-19 16:31:56 [INFO] idaes.init.fs.S101.mixed_state: Property initialization: optimal - Optimal Solution Found.\n",
      "2020-06-19 16:31:56 [INFO] idaes.init.fs.S101.purge_state: Starting initialization\n",
      "2020-06-19 16:31:56 [INFO] idaes.init.fs.S101.purge_state: Dew and bubble point initialization: optimal - Optimal Solution Found.\n",
      "2020-06-19 16:31:56 [INFO] idaes.init.fs.S101.purge_state: Equilibrium temperature initialization completed.\n",
      "2020-06-19 16:31:56 [INFO] idaes.init.fs.S101.purge_state: State variable initialization completed.\n",
      "2020-06-19 16:31:56 [INFO] idaes.init.fs.S101.purge_state: Phase equilibrium initialization: optimal - Optimal Solution Found.\n",
      "2020-06-19 16:31:56 [INFO] idaes.init.fs.S101.purge_state: Property package initialization: optimal - Optimal Solution Found.\n",
      "2020-06-19 16:31:56 [INFO] idaes.init.fs.S101.recycle_state: Starting initialization\n",
      "2020-06-19 16:31:56 [INFO] idaes.init.fs.S101.recycle_state: Dew and bubble point initialization: optimal - Optimal Solution Found.\n",
      "2020-06-19 16:31:56 [INFO] idaes.init.fs.S101.recycle_state: Equilibrium temperature initialization completed.\n",
      "2020-06-19 16:31:56 [INFO] idaes.init.fs.S101.recycle_state: State variable initialization completed.\n",
      "2020-06-19 16:31:56 [INFO] idaes.init.fs.S101.recycle_state: Phase equilibrium initialization: optimal - Optimal Solution Found.\n",
      "2020-06-19 16:31:56 [INFO] idaes.init.fs.S101.recycle_state: Property package initialization: optimal - Optimal Solution Found.\n",
      "2020-06-19 16:31:56 [INFO] idaes.init.fs.S101: Initialization Step 2 Complete: optimal - Optimal Solution Found\n",
      "2020-06-19 16:31:56 [INFO] idaes.init.fs.C101.control_volume.properties_in: Starting initialization\n",
      "2020-06-19 16:31:56 [INFO] idaes.init.fs.C101.control_volume.properties_in: State variable initialization completed.\n",
      "2020-06-19 16:31:56 [INFO] idaes.init.fs.C101.control_volume.properties_in: Property initialization: optimal - Optimal Solution Found.\n",
      "2020-06-19 16:31:56 [INFO] idaes.init.fs.C101.control_volume.properties_out: Starting initialization\n",
      "2020-06-19 16:31:56 [INFO] idaes.init.fs.C101.control_volume.properties_out: Dew and bubble point initialization: optimal - Optimal Solution Found.\n",
      "2020-06-19 16:31:56 [INFO] idaes.init.fs.C101.control_volume.properties_out: Equilibrium temperature initialization completed.\n",
      "2020-06-19 16:31:56 [INFO] idaes.init.fs.C101.control_volume.properties_out: State variable initialization completed.\n",
      "2020-06-19 16:31:56 [INFO] idaes.init.fs.C101.control_volume.properties_out: Phase equilibrium initialization: optimal - Optimal Solution Found.\n",
      "2020-06-19 16:31:56 [INFO] idaes.init.fs.C101.control_volume: Initialization Complete\n",
      "2020-06-19 16:31:57 [INFO] idaes.init.fs.C101: Initialization Complete: optimal - Optimal Solution Found\n",
      "2020-06-19 16:31:57 [INFO] idaes.init.fs.M101.toluene_feed_state: Starting initialization\n",
      "2020-06-19 16:31:57 [INFO] idaes.init.fs.M101.toluene_feed_state: State variable initialization completed.\n",
      "2020-06-19 16:31:57 [INFO] idaes.init.fs.M101.toluene_feed_state: Property initialization: optimal - Optimal Solution Found.\n",
      "2020-06-19 16:31:57 [INFO] idaes.init.fs.M101.hydrogen_feed_state: Starting initialization\n",
      "2020-06-19 16:31:57 [INFO] idaes.init.fs.M101.hydrogen_feed_state: State variable initialization completed.\n"
     ]
    },
    {
     "name": "stdout",
     "output_type": "stream",
     "text": [
      "2020-06-19 16:31:57 [INFO] idaes.init.fs.M101.hydrogen_feed_state: Property initialization: optimal - Optimal Solution Found.\n",
      "2020-06-19 16:31:57 [INFO] idaes.init.fs.M101.vapor_recycle_state: Starting initialization\n",
      "2020-06-19 16:31:57 [INFO] idaes.init.fs.M101.vapor_recycle_state: State variable initialization completed.\n",
      "2020-06-19 16:31:57 [INFO] idaes.init.fs.M101.vapor_recycle_state: Property initialization: optimal - Optimal Solution Found.\n",
      "2020-06-19 16:31:57 [INFO] idaes.init.fs.M101.mixed_state: Starting initialization\n",
      "2020-06-19 16:31:57 [INFO] idaes.init.fs.M101.mixed_state: Dew and bubble point initialization: optimal - Optimal Solution Found.\n",
      "2020-06-19 16:31:57 [INFO] idaes.init.fs.M101.mixed_state: Equilibrium temperature initialization completed.\n",
      "2020-06-19 16:31:57 [INFO] idaes.init.fs.M101.mixed_state: State variable initialization completed.\n",
      "2020-06-19 16:31:57 [INFO] idaes.init.fs.M101.mixed_state: Phase equilibrium initialization: optimal - Optimal Solution Found.\n",
      "2020-06-19 16:31:57 [INFO] idaes.init.fs.M101.mixed_state: Property package initialization: optimal - Optimal Solution Found.\n",
      "2020-06-19 16:31:57 [INFO] idaes.init.fs.M101: Initialization Complete: optimal - Optimal Solution Found\n",
      "2020-06-19 16:31:57 [INFO] idaes.init.fs.H101.control_volume.properties_in: Starting initialization\n",
      "2020-06-19 16:31:57 [INFO] idaes.init.fs.H101.control_volume.properties_in: State variable initialization completed.\n",
      "2020-06-19 16:31:57 [INFO] idaes.init.fs.H101.control_volume.properties_in: Property initialization: optimal - Optimal Solution Found.\n",
      "2020-06-19 16:31:57 [INFO] idaes.init.fs.H101.control_volume.properties_out: Starting initialization\n",
      "2020-06-19 16:31:57 [INFO] idaes.init.fs.H101.control_volume.properties_out: Dew and bubble point initialization: optimal - Optimal Solution Found.\n",
      "2020-06-19 16:31:57 [INFO] idaes.init.fs.H101.control_volume.properties_out: Equilibrium temperature initialization completed.\n",
      "2020-06-19 16:31:57 [INFO] idaes.init.fs.H101.control_volume.properties_out: State variable initialization completed.\n",
      "2020-06-19 16:31:57 [INFO] idaes.init.fs.H101.control_volume.properties_out: Phase equilibrium initialization: optimal - Optimal Solution Found.\n",
      "2020-06-19 16:31:57 [INFO] idaes.init.fs.H101.control_volume: Initialization Complete\n",
      "2020-06-19 16:31:57 [INFO] idaes.init.fs.H101: Initialization Complete: optimal - Optimal Solution Found\n",
      "2020-06-19 16:31:57 [INFO] idaes.init.fs.R101.control_volume.properties_in: Starting initialization\n",
      "2020-06-19 16:31:57 [INFO] idaes.init.fs.R101.control_volume.properties_in: State variable initialization completed.\n",
      "2020-06-19 16:31:57 [INFO] idaes.init.fs.R101.control_volume.properties_in: Property initialization: optimal - Optimal Solution Found.\n",
      "2020-06-19 16:31:57 [INFO] idaes.init.fs.R101.control_volume.properties_out: Starting initialization\n",
      "2020-06-19 16:31:57 [INFO] idaes.init.fs.R101.control_volume.properties_out: Dew and bubble point initialization: optimal - Optimal Solution Found.\n",
      "2020-06-19 16:31:57 [INFO] idaes.init.fs.R101.control_volume.properties_out: Equilibrium temperature initialization completed.\n",
      "2020-06-19 16:31:57 [INFO] idaes.init.fs.R101.control_volume.properties_out: State variable initialization completed.\n",
      "2020-06-19 16:31:57 [INFO] idaes.init.fs.R101.control_volume.properties_out: Phase equilibrium initialization: optimal - Optimal Solution Found.\n",
      "2020-06-19 16:31:57 [INFO] idaes.init.fs.R101.control_volume: Initialization Complete\n",
      "2020-06-19 16:31:57 [INFO] idaes.init.fs.R101: Initialization Complete: optimal - Optimal Solution Found\n",
      "2020-06-19 16:31:57 [INFO] idaes.init.fs.F101.control_volume.properties_in: Starting initialization\n",
      "2020-06-19 16:31:57 [INFO] idaes.init.fs.F101.control_volume.properties_in: State variable initialization completed.\n",
      "2020-06-19 16:31:57 [INFO] idaes.init.fs.F101.control_volume.properties_in: Property initialization: optimal - Optimal Solution Found.\n",
      "2020-06-19 16:31:57 [INFO] idaes.init.fs.F101.control_volume.properties_out: Starting initialization\n",
      "2020-06-19 16:31:58 [INFO] idaes.init.fs.F101.control_volume.properties_out: Dew and bubble point initialization: optimal - Optimal Solution Found.\n",
      "2020-06-19 16:31:58 [INFO] idaes.init.fs.F101.control_volume.properties_out: Equilibrium temperature initialization completed.\n",
      "2020-06-19 16:31:58 [INFO] idaes.init.fs.F101.control_volume.properties_out: State variable initialization completed.\n",
      "2020-06-19 16:31:58 [INFO] idaes.init.fs.F101.control_volume.properties_out: Phase equilibrium initialization: optimal - Optimal Solution Found.\n",
      "2020-06-19 16:31:58 [INFO] idaes.init.fs.F101.control_volume: Initialization Complete\n",
      "2020-06-19 16:31:58 [INFO] idaes.init.fs.F101: Initialization Complete: optimal - Optimal Solution Found\n",
      "2020-06-19 16:31:58 [INFO] idaes.init.fs.S101.mixed_state: Starting initialization\n",
      "2020-06-19 16:31:58 [INFO] idaes.init.fs.S101.mixed_state: State variable initialization completed.\n",
      "2020-06-19 16:31:58 [INFO] idaes.init.fs.S101.mixed_state: Property initialization: optimal - Optimal Solution Found.\n",
      "2020-06-19 16:31:58 [INFO] idaes.init.fs.S101.purge_state: Starting initialization\n",
      "2020-06-19 16:31:58 [INFO] idaes.init.fs.S101.purge_state: Dew and bubble point initialization: optimal - Optimal Solution Found.\n",
      "2020-06-19 16:31:58 [INFO] idaes.init.fs.S101.purge_state: Equilibrium temperature initialization completed.\n",
      "2020-06-19 16:31:58 [INFO] idaes.init.fs.S101.purge_state: State variable initialization completed.\n",
      "2020-06-19 16:31:58 [INFO] idaes.init.fs.S101.purge_state: Phase equilibrium initialization: optimal - Optimal Solution Found.\n",
      "2020-06-19 16:31:58 [INFO] idaes.init.fs.S101.purge_state: Property package initialization: optimal - Optimal Solution Found.\n",
      "2020-06-19 16:31:58 [INFO] idaes.init.fs.S101.recycle_state: Starting initialization\n",
      "2020-06-19 16:31:58 [INFO] idaes.init.fs.S101.recycle_state: Dew and bubble point initialization: optimal - Optimal Solution Found.\n",
      "2020-06-19 16:31:58 [INFO] idaes.init.fs.S101.recycle_state: Equilibrium temperature initialization completed.\n",
      "2020-06-19 16:31:58 [INFO] idaes.init.fs.S101.recycle_state: State variable initialization completed.\n",
      "2020-06-19 16:31:58 [INFO] idaes.init.fs.S101.recycle_state: Phase equilibrium initialization: optimal - Optimal Solution Found.\n",
      "2020-06-19 16:31:58 [INFO] idaes.init.fs.S101.recycle_state: Property package initialization: optimal - Optimal Solution Found.\n",
      "2020-06-19 16:31:58 [INFO] idaes.init.fs.S101: Initialization Step 2 Complete: optimal - Optimal Solution Found\n",
      "2020-06-19 16:31:58 [INFO] idaes.init.fs.C101.control_volume.properties_in: Starting initialization\n",
      "2020-06-19 16:31:58 [INFO] idaes.init.fs.C101.control_volume.properties_in: State variable initialization completed.\n",
      "2020-06-19 16:31:58 [INFO] idaes.init.fs.C101.control_volume.properties_in: Property initialization: optimal - Optimal Solution Found.\n",
      "2020-06-19 16:31:58 [INFO] idaes.init.fs.C101.control_volume.properties_out: Starting initialization\n",
      "2020-06-19 16:31:58 [INFO] idaes.init.fs.C101.control_volume.properties_out: Dew and bubble point initialization: optimal - Optimal Solution Found.\n",
      "2020-06-19 16:31:58 [INFO] idaes.init.fs.C101.control_volume.properties_out: Equilibrium temperature initialization completed.\n",
      "2020-06-19 16:31:58 [INFO] idaes.init.fs.C101.control_volume.properties_out: State variable initialization completed.\n",
      "2020-06-19 16:31:58 [INFO] idaes.init.fs.C101.control_volume.properties_out: Phase equilibrium initialization: optimal - Optimal Solution Found.\n",
      "2020-06-19 16:31:58 [INFO] idaes.init.fs.C101.control_volume: Initialization Complete\n",
      "2020-06-19 16:31:58 [INFO] idaes.init.fs.C101: Initialization Complete: optimal - Optimal Solution Found\n",
      "2020-06-19 16:31:58 [INFO] idaes.init.fs.M101.toluene_feed_state: Starting initialization\n",
      "2020-06-19 16:31:58 [INFO] idaes.init.fs.M101.toluene_feed_state: State variable initialization completed.\n",
      "2020-06-19 16:31:58 [INFO] idaes.init.fs.M101.toluene_feed_state: Property initialization: optimal - Optimal Solution Found.\n",
      "2020-06-19 16:31:58 [INFO] idaes.init.fs.M101.hydrogen_feed_state: Starting initialization\n",
      "2020-06-19 16:31:58 [INFO] idaes.init.fs.M101.hydrogen_feed_state: State variable initialization completed.\n"
     ]
    },
    {
     "name": "stdout",
     "output_type": "stream",
     "text": [
      "2020-06-19 16:31:58 [INFO] idaes.init.fs.M101.hydrogen_feed_state: Property initialization: optimal - Optimal Solution Found.\n",
      "2020-06-19 16:31:58 [INFO] idaes.init.fs.M101.vapor_recycle_state: Starting initialization\n",
      "2020-06-19 16:31:58 [INFO] idaes.init.fs.M101.vapor_recycle_state: State variable initialization completed.\n",
      "2020-06-19 16:31:59 [INFO] idaes.init.fs.M101.vapor_recycle_state: Property initialization: optimal - Optimal Solution Found.\n",
      "2020-06-19 16:31:59 [INFO] idaes.init.fs.M101.mixed_state: Starting initialization\n",
      "2020-06-19 16:31:59 [INFO] idaes.init.fs.M101.mixed_state: Dew and bubble point initialization: optimal - Optimal Solution Found.\n",
      "2020-06-19 16:31:59 [INFO] idaes.init.fs.M101.mixed_state: Equilibrium temperature initialization completed.\n",
      "2020-06-19 16:31:59 [INFO] idaes.init.fs.M101.mixed_state: State variable initialization completed.\n",
      "2020-06-19 16:31:59 [INFO] idaes.init.fs.M101.mixed_state: Phase equilibrium initialization: optimal - Optimal Solution Found.\n",
      "2020-06-19 16:31:59 [INFO] idaes.init.fs.M101.mixed_state: Property package initialization: optimal - Optimal Solution Found.\n",
      "2020-06-19 16:31:59 [INFO] idaes.init.fs.M101: Initialization Complete: optimal - Optimal Solution Found\n",
      "2020-06-19 16:31:59 [INFO] idaes.init.fs.H101.control_volume.properties_in: Starting initialization\n",
      "2020-06-19 16:31:59 [INFO] idaes.init.fs.H101.control_volume.properties_in: State variable initialization completed.\n",
      "2020-06-19 16:31:59 [INFO] idaes.init.fs.H101.control_volume.properties_in: Property initialization: optimal - Optimal Solution Found.\n",
      "2020-06-19 16:31:59 [INFO] idaes.init.fs.H101.control_volume.properties_out: Starting initialization\n",
      "2020-06-19 16:31:59 [INFO] idaes.init.fs.H101.control_volume.properties_out: Dew and bubble point initialization: optimal - Optimal Solution Found.\n",
      "2020-06-19 16:31:59 [INFO] idaes.init.fs.H101.control_volume.properties_out: Equilibrium temperature initialization completed.\n",
      "2020-06-19 16:31:59 [INFO] idaes.init.fs.H101.control_volume.properties_out: State variable initialization completed.\n",
      "2020-06-19 16:31:59 [INFO] idaes.init.fs.H101.control_volume.properties_out: Phase equilibrium initialization: optimal - Optimal Solution Found.\n",
      "2020-06-19 16:31:59 [INFO] idaes.init.fs.H101.control_volume: Initialization Complete\n",
      "2020-06-19 16:31:59 [INFO] idaes.init.fs.H101: Initialization Complete: optimal - Optimal Solution Found\n",
      "2020-06-19 16:31:59 [INFO] idaes.init.fs.R101.control_volume.properties_in: Starting initialization\n",
      "2020-06-19 16:31:59 [INFO] idaes.init.fs.R101.control_volume.properties_in: State variable initialization completed.\n",
      "2020-06-19 16:31:59 [INFO] idaes.init.fs.R101.control_volume.properties_in: Property initialization: optimal - Optimal Solution Found.\n",
      "2020-06-19 16:31:59 [INFO] idaes.init.fs.R101.control_volume.properties_out: Starting initialization\n",
      "2020-06-19 16:31:59 [INFO] idaes.init.fs.R101.control_volume.properties_out: Dew and bubble point initialization: optimal - Optimal Solution Found.\n",
      "2020-06-19 16:31:59 [INFO] idaes.init.fs.R101.control_volume.properties_out: Equilibrium temperature initialization completed.\n",
      "2020-06-19 16:31:59 [INFO] idaes.init.fs.R101.control_volume.properties_out: State variable initialization completed.\n",
      "2020-06-19 16:31:59 [INFO] idaes.init.fs.R101.control_volume.properties_out: Phase equilibrium initialization: optimal - Optimal Solution Found.\n",
      "2020-06-19 16:31:59 [INFO] idaes.init.fs.R101.control_volume: Initialization Complete\n",
      "2020-06-19 16:31:59 [INFO] idaes.init.fs.R101: Initialization Complete: optimal - Optimal Solution Found\n",
      "2020-06-19 16:31:59 [INFO] idaes.init.fs.F101.control_volume.properties_in: Starting initialization\n",
      "2020-06-19 16:31:59 [INFO] idaes.init.fs.F101.control_volume.properties_in: State variable initialization completed.\n",
      "2020-06-19 16:31:59 [INFO] idaes.init.fs.F101.control_volume.properties_in: Property initialization: optimal - Optimal Solution Found.\n",
      "2020-06-19 16:31:59 [INFO] idaes.init.fs.F101.control_volume.properties_out: Starting initialization\n",
      "2020-06-19 16:31:59 [INFO] idaes.init.fs.F101.control_volume.properties_out: Dew and bubble point initialization: optimal - Optimal Solution Found.\n",
      "2020-06-19 16:31:59 [INFO] idaes.init.fs.F101.control_volume.properties_out: Equilibrium temperature initialization completed.\n",
      "2020-06-19 16:31:59 [INFO] idaes.init.fs.F101.control_volume.properties_out: State variable initialization completed.\n",
      "2020-06-19 16:31:59 [INFO] idaes.init.fs.F101.control_volume.properties_out: Phase equilibrium initialization: optimal - Optimal Solution Found.\n",
      "2020-06-19 16:31:59 [INFO] idaes.init.fs.F101.control_volume: Initialization Complete\n",
      "2020-06-19 16:31:59 [INFO] idaes.init.fs.F101: Initialization Complete: optimal - Optimal Solution Found\n",
      "2020-06-19 16:31:59 [INFO] idaes.init.fs.S101.mixed_state: Starting initialization\n",
      "2020-06-19 16:31:59 [INFO] idaes.init.fs.S101.mixed_state: State variable initialization completed.\n",
      "2020-06-19 16:31:59 [INFO] idaes.init.fs.S101.mixed_state: Property initialization: optimal - Optimal Solution Found.\n",
      "2020-06-19 16:31:59 [INFO] idaes.init.fs.S101.purge_state: Starting initialization\n",
      "2020-06-19 16:32:00 [INFO] idaes.init.fs.S101.purge_state: Dew and bubble point initialization: optimal - Optimal Solution Found.\n",
      "2020-06-19 16:32:00 [INFO] idaes.init.fs.S101.purge_state: Equilibrium temperature initialization completed.\n",
      "2020-06-19 16:32:00 [INFO] idaes.init.fs.S101.purge_state: State variable initialization completed.\n",
      "2020-06-19 16:32:00 [INFO] idaes.init.fs.S101.purge_state: Phase equilibrium initialization: optimal - Optimal Solution Found.\n",
      "2020-06-19 16:32:00 [INFO] idaes.init.fs.S101.purge_state: Property package initialization: optimal - Optimal Solution Found.\n",
      "2020-06-19 16:32:00 [INFO] idaes.init.fs.S101.recycle_state: Starting initialization\n",
      "2020-06-19 16:32:00 [INFO] idaes.init.fs.S101.recycle_state: Dew and bubble point initialization: optimal - Optimal Solution Found.\n",
      "2020-06-19 16:32:00 [INFO] idaes.init.fs.S101.recycle_state: Equilibrium temperature initialization completed.\n",
      "2020-06-19 16:32:00 [INFO] idaes.init.fs.S101.recycle_state: State variable initialization completed.\n",
      "2020-06-19 16:32:00 [INFO] idaes.init.fs.S101.recycle_state: Phase equilibrium initialization: optimal - Optimal Solution Found.\n",
      "2020-06-19 16:32:00 [INFO] idaes.init.fs.S101.recycle_state: Property package initialization: optimal - Optimal Solution Found.\n",
      "2020-06-19 16:32:00 [INFO] idaes.init.fs.S101: Initialization Step 2 Complete: optimal - Optimal Solution Found\n",
      "2020-06-19 16:32:00 [INFO] idaes.init.fs.C101.control_volume.properties_in: Starting initialization\n",
      "2020-06-19 16:32:00 [INFO] idaes.init.fs.C101.control_volume.properties_in: State variable initialization completed.\n",
      "2020-06-19 16:32:00 [INFO] idaes.init.fs.C101.control_volume.properties_in: Property initialization: optimal - Optimal Solution Found.\n",
      "2020-06-19 16:32:00 [INFO] idaes.init.fs.C101.control_volume.properties_out: Starting initialization\n",
      "2020-06-19 16:32:00 [INFO] idaes.init.fs.C101.control_volume.properties_out: Dew and bubble point initialization: optimal - Optimal Solution Found.\n",
      "2020-06-19 16:32:00 [INFO] idaes.init.fs.C101.control_volume.properties_out: Equilibrium temperature initialization completed.\n",
      "2020-06-19 16:32:00 [INFO] idaes.init.fs.C101.control_volume.properties_out: State variable initialization completed.\n",
      "2020-06-19 16:32:00 [INFO] idaes.init.fs.C101.control_volume.properties_out: Phase equilibrium initialization: optimal - Optimal Solution Found.\n",
      "2020-06-19 16:32:00 [INFO] idaes.init.fs.C101.control_volume: Initialization Complete\n",
      "2020-06-19 16:32:00 [INFO] idaes.init.fs.C101: Initialization Complete: optimal - Optimal Solution Found\n",
      "2020-06-19 16:32:00 [INFO] idaes.init.fs.M101.toluene_feed_state: Starting initialization\n",
      "2020-06-19 16:32:00 [INFO] idaes.init.fs.M101.toluene_feed_state: State variable initialization completed.\n",
      "2020-06-19 16:32:00 [INFO] idaes.init.fs.M101.toluene_feed_state: Property initialization: optimal - Optimal Solution Found.\n",
      "2020-06-19 16:32:00 [INFO] idaes.init.fs.M101.hydrogen_feed_state: Starting initialization\n",
      "2020-06-19 16:32:00 [INFO] idaes.init.fs.M101.hydrogen_feed_state: State variable initialization completed.\n"
     ]
    },
    {
     "name": "stdout",
     "output_type": "stream",
     "text": [
      "2020-06-19 16:32:00 [INFO] idaes.init.fs.M101.hydrogen_feed_state: Property initialization: optimal - Optimal Solution Found.\n",
      "2020-06-19 16:32:00 [INFO] idaes.init.fs.M101.vapor_recycle_state: Starting initialization\n",
      "2020-06-19 16:32:00 [INFO] idaes.init.fs.M101.vapor_recycle_state: State variable initialization completed.\n",
      "2020-06-19 16:32:00 [INFO] idaes.init.fs.M101.vapor_recycle_state: Property initialization: optimal - Optimal Solution Found.\n",
      "2020-06-19 16:32:00 [INFO] idaes.init.fs.M101.mixed_state: Starting initialization\n",
      "2020-06-19 16:32:00 [INFO] idaes.init.fs.M101.mixed_state: Dew and bubble point initialization: optimal - Optimal Solution Found.\n",
      "2020-06-19 16:32:00 [INFO] idaes.init.fs.M101.mixed_state: Equilibrium temperature initialization completed.\n",
      "2020-06-19 16:32:00 [INFO] idaes.init.fs.M101.mixed_state: State variable initialization completed.\n",
      "2020-06-19 16:32:00 [INFO] idaes.init.fs.M101.mixed_state: Phase equilibrium initialization: optimal - Optimal Solution Found.\n",
      "2020-06-19 16:32:00 [INFO] idaes.init.fs.M101.mixed_state: Property package initialization: optimal - Optimal Solution Found.\n",
      "2020-06-19 16:32:00 [INFO] idaes.init.fs.M101: Initialization Complete: optimal - Optimal Solution Found\n",
      "2020-06-19 16:32:00 [INFO] idaes.init.fs.H101.control_volume.properties_in: Starting initialization\n",
      "2020-06-19 16:32:00 [INFO] idaes.init.fs.H101.control_volume.properties_in: State variable initialization completed.\n",
      "2020-06-19 16:32:00 [INFO] idaes.init.fs.H101.control_volume.properties_in: Property initialization: optimal - Optimal Solution Found.\n",
      "2020-06-19 16:32:00 [INFO] idaes.init.fs.H101.control_volume.properties_out: Starting initialization\n",
      "2020-06-19 16:32:01 [INFO] idaes.init.fs.H101.control_volume.properties_out: Dew and bubble point initialization: optimal - Optimal Solution Found.\n",
      "2020-06-19 16:32:01 [INFO] idaes.init.fs.H101.control_volume.properties_out: Equilibrium temperature initialization completed.\n",
      "2020-06-19 16:32:01 [INFO] idaes.init.fs.H101.control_volume.properties_out: State variable initialization completed.\n",
      "2020-06-19 16:32:01 [INFO] idaes.init.fs.H101.control_volume.properties_out: Phase equilibrium initialization: optimal - Optimal Solution Found.\n",
      "2020-06-19 16:32:01 [INFO] idaes.init.fs.H101.control_volume: Initialization Complete\n",
      "2020-06-19 16:32:01 [INFO] idaes.init.fs.H101: Initialization Complete: optimal - Optimal Solution Found\n",
      "2020-06-19 16:32:01 [INFO] idaes.init.fs.R101.control_volume.properties_in: Starting initialization\n",
      "2020-06-19 16:32:01 [INFO] idaes.init.fs.R101.control_volume.properties_in: State variable initialization completed.\n",
      "2020-06-19 16:32:01 [INFO] idaes.init.fs.R101.control_volume.properties_in: Property initialization: optimal - Optimal Solution Found.\n",
      "2020-06-19 16:32:01 [INFO] idaes.init.fs.R101.control_volume.properties_out: Starting initialization\n",
      "2020-06-19 16:32:01 [INFO] idaes.init.fs.R101.control_volume.properties_out: Dew and bubble point initialization: optimal - Optimal Solution Found.\n",
      "2020-06-19 16:32:01 [INFO] idaes.init.fs.R101.control_volume.properties_out: Equilibrium temperature initialization completed.\n",
      "2020-06-19 16:32:01 [INFO] idaes.init.fs.R101.control_volume.properties_out: State variable initialization completed.\n",
      "2020-06-19 16:32:01 [INFO] idaes.init.fs.R101.control_volume.properties_out: Phase equilibrium initialization: optimal - Optimal Solution Found.\n",
      "2020-06-19 16:32:01 [INFO] idaes.init.fs.R101.control_volume: Initialization Complete\n",
      "2020-06-19 16:32:01 [INFO] idaes.init.fs.R101: Initialization Complete: optimal - Optimal Solution Found\n",
      "2020-06-19 16:32:01 [INFO] idaes.init.fs.F101.control_volume.properties_in: Starting initialization\n",
      "2020-06-19 16:32:01 [INFO] idaes.init.fs.F101.control_volume.properties_in: State variable initialization completed.\n",
      "2020-06-19 16:32:01 [INFO] idaes.init.fs.F101.control_volume.properties_in: Property initialization: optimal - Optimal Solution Found.\n",
      "2020-06-19 16:32:01 [INFO] idaes.init.fs.F101.control_volume.properties_out: Starting initialization\n",
      "2020-06-19 16:32:01 [INFO] idaes.init.fs.F101.control_volume.properties_out: Dew and bubble point initialization: optimal - Optimal Solution Found.\n",
      "2020-06-19 16:32:01 [INFO] idaes.init.fs.F101.control_volume.properties_out: Equilibrium temperature initialization completed.\n",
      "2020-06-19 16:32:01 [INFO] idaes.init.fs.F101.control_volume.properties_out: State variable initialization completed.\n",
      "2020-06-19 16:32:01 [INFO] idaes.init.fs.F101.control_volume.properties_out: Phase equilibrium initialization: optimal - Optimal Solution Found.\n",
      "2020-06-19 16:32:01 [INFO] idaes.init.fs.F101.control_volume: Initialization Complete\n",
      "2020-06-19 16:32:01 [INFO] idaes.init.fs.F101: Initialization Complete: optimal - Optimal Solution Found\n",
      "2020-06-19 16:32:01 [INFO] idaes.init.fs.S101.mixed_state: Starting initialization\n",
      "2020-06-19 16:32:01 [INFO] idaes.init.fs.S101.mixed_state: State variable initialization completed.\n",
      "2020-06-19 16:32:01 [INFO] idaes.init.fs.S101.mixed_state: Property initialization: optimal - Optimal Solution Found.\n",
      "2020-06-19 16:32:01 [INFO] idaes.init.fs.S101.purge_state: Starting initialization\n",
      "2020-06-19 16:32:01 [INFO] idaes.init.fs.S101.purge_state: Dew and bubble point initialization: optimal - Optimal Solution Found.\n",
      "2020-06-19 16:32:01 [INFO] idaes.init.fs.S101.purge_state: Equilibrium temperature initialization completed.\n",
      "2020-06-19 16:32:01 [INFO] idaes.init.fs.S101.purge_state: State variable initialization completed.\n",
      "2020-06-19 16:32:01 [INFO] idaes.init.fs.S101.purge_state: Phase equilibrium initialization: optimal - Optimal Solution Found.\n",
      "2020-06-19 16:32:01 [INFO] idaes.init.fs.S101.purge_state: Property package initialization: optimal - Optimal Solution Found.\n",
      "2020-06-19 16:32:01 [INFO] idaes.init.fs.S101.recycle_state: Starting initialization\n",
      "2020-06-19 16:32:01 [INFO] idaes.init.fs.S101.recycle_state: Dew and bubble point initialization: optimal - Optimal Solution Found.\n",
      "2020-06-19 16:32:01 [INFO] idaes.init.fs.S101.recycle_state: Equilibrium temperature initialization completed.\n",
      "2020-06-19 16:32:01 [INFO] idaes.init.fs.S101.recycle_state: State variable initialization completed.\n",
      "2020-06-19 16:32:02 [INFO] idaes.init.fs.S101.recycle_state: Phase equilibrium initialization: optimal - Optimal Solution Found.\n",
      "2020-06-19 16:32:02 [INFO] idaes.init.fs.S101.recycle_state: Property package initialization: optimal - Optimal Solution Found.\n",
      "2020-06-19 16:32:02 [INFO] idaes.init.fs.S101: Initialization Step 2 Complete: optimal - Optimal Solution Found\n",
      "2020-06-19 16:32:02 [INFO] idaes.init.fs.C101.control_volume.properties_in: Starting initialization\n",
      "2020-06-19 16:32:02 [INFO] idaes.init.fs.C101.control_volume.properties_in: State variable initialization completed.\n",
      "2020-06-19 16:32:02 [INFO] idaes.init.fs.C101.control_volume.properties_in: Property initialization: optimal - Optimal Solution Found.\n",
      "2020-06-19 16:32:02 [INFO] idaes.init.fs.C101.control_volume.properties_out: Starting initialization\n",
      "2020-06-19 16:32:02 [INFO] idaes.init.fs.C101.control_volume.properties_out: Dew and bubble point initialization: optimal - Optimal Solution Found.\n",
      "2020-06-19 16:32:02 [INFO] idaes.init.fs.C101.control_volume.properties_out: Equilibrium temperature initialization completed.\n",
      "2020-06-19 16:32:02 [INFO] idaes.init.fs.C101.control_volume.properties_out: State variable initialization completed.\n",
      "2020-06-19 16:32:02 [INFO] idaes.init.fs.C101.control_volume.properties_out: Phase equilibrium initialization: optimal - Optimal Solution Found.\n",
      "2020-06-19 16:32:02 [INFO] idaes.init.fs.C101.control_volume: Initialization Complete\n",
      "2020-06-19 16:32:02 [INFO] idaes.init.fs.C101: Initialization Complete: optimal - Optimal Solution Found\n",
      "2020-06-19 16:32:02 [INFO] idaes.init.fs.M101.toluene_feed_state: Starting initialization\n",
      "2020-06-19 16:32:02 [INFO] idaes.init.fs.M101.toluene_feed_state: State variable initialization completed.\n",
      "2020-06-19 16:32:02 [INFO] idaes.init.fs.M101.toluene_feed_state: Property initialization: optimal - Optimal Solution Found.\n",
      "2020-06-19 16:32:02 [INFO] idaes.init.fs.M101.hydrogen_feed_state: Starting initialization\n",
      "2020-06-19 16:32:02 [INFO] idaes.init.fs.M101.hydrogen_feed_state: State variable initialization completed.\n"
     ]
    },
    {
     "name": "stdout",
     "output_type": "stream",
     "text": [
      "2020-06-19 16:32:02 [INFO] idaes.init.fs.M101.hydrogen_feed_state: Property initialization: optimal - Optimal Solution Found.\n",
      "2020-06-19 16:32:02 [INFO] idaes.init.fs.M101.vapor_recycle_state: Starting initialization\n",
      "2020-06-19 16:32:02 [INFO] idaes.init.fs.M101.vapor_recycle_state: State variable initialization completed.\n",
      "2020-06-19 16:32:02 [INFO] idaes.init.fs.M101.vapor_recycle_state: Property initialization: optimal - Optimal Solution Found.\n",
      "2020-06-19 16:32:02 [INFO] idaes.init.fs.M101.mixed_state: Starting initialization\n",
      "2020-06-19 16:32:02 [INFO] idaes.init.fs.M101.mixed_state: Dew and bubble point initialization: optimal - Optimal Solution Found.\n",
      "2020-06-19 16:32:02 [INFO] idaes.init.fs.M101.mixed_state: Equilibrium temperature initialization completed.\n",
      "2020-06-19 16:32:02 [INFO] idaes.init.fs.M101.mixed_state: State variable initialization completed.\n",
      "2020-06-19 16:32:02 [INFO] idaes.init.fs.M101.mixed_state: Phase equilibrium initialization: optimal - Optimal Solution Found.\n",
      "2020-06-19 16:32:02 [INFO] idaes.init.fs.M101.mixed_state: Property package initialization: optimal - Optimal Solution Found.\n",
      "2020-06-19 16:32:02 [INFO] idaes.init.fs.M101: Initialization Complete: optimal - Optimal Solution Found\n",
      "2020-06-19 16:32:02 [INFO] idaes.init.fs.H101.control_volume.properties_in: Starting initialization\n",
      "2020-06-19 16:32:02 [INFO] idaes.init.fs.H101.control_volume.properties_in: State variable initialization completed.\n",
      "2020-06-19 16:32:02 [INFO] idaes.init.fs.H101.control_volume.properties_in: Property initialization: optimal - Optimal Solution Found.\n",
      "2020-06-19 16:32:02 [INFO] idaes.init.fs.H101.control_volume.properties_out: Starting initialization\n",
      "2020-06-19 16:32:02 [INFO] idaes.init.fs.H101.control_volume.properties_out: Dew and bubble point initialization: optimal - Optimal Solution Found.\n",
      "2020-06-19 16:32:02 [INFO] idaes.init.fs.H101.control_volume.properties_out: Equilibrium temperature initialization completed.\n",
      "2020-06-19 16:32:02 [INFO] idaes.init.fs.H101.control_volume.properties_out: State variable initialization completed.\n",
      "2020-06-19 16:32:02 [INFO] idaes.init.fs.H101.control_volume.properties_out: Phase equilibrium initialization: optimal - Optimal Solution Found.\n",
      "2020-06-19 16:32:02 [INFO] idaes.init.fs.H101.control_volume: Initialization Complete\n",
      "2020-06-19 16:32:02 [INFO] idaes.init.fs.H101: Initialization Complete: optimal - Optimal Solution Found\n",
      "2020-06-19 16:32:02 [INFO] idaes.init.fs.R101.control_volume.properties_in: Starting initialization\n",
      "2020-06-19 16:32:02 [INFO] idaes.init.fs.R101.control_volume.properties_in: State variable initialization completed.\n",
      "2020-06-19 16:32:02 [INFO] idaes.init.fs.R101.control_volume.properties_in: Property initialization: optimal - Optimal Solution Found.\n",
      "2020-06-19 16:32:02 [INFO] idaes.init.fs.R101.control_volume.properties_out: Starting initialization\n",
      "2020-06-19 16:32:03 [INFO] idaes.init.fs.R101.control_volume.properties_out: Dew and bubble point initialization: optimal - Optimal Solution Found.\n",
      "2020-06-19 16:32:03 [INFO] idaes.init.fs.R101.control_volume.properties_out: Equilibrium temperature initialization completed.\n",
      "2020-06-19 16:32:03 [INFO] idaes.init.fs.R101.control_volume.properties_out: State variable initialization completed.\n",
      "2020-06-19 16:32:03 [INFO] idaes.init.fs.R101.control_volume.properties_out: Phase equilibrium initialization: optimal - Optimal Solution Found.\n",
      "2020-06-19 16:32:03 [INFO] idaes.init.fs.R101.control_volume: Initialization Complete\n",
      "2020-06-19 16:32:03 [INFO] idaes.init.fs.R101: Initialization Complete: optimal - Optimal Solution Found\n",
      "2020-06-19 16:32:03 [INFO] idaes.init.fs.F101.control_volume.properties_in: Starting initialization\n",
      "2020-06-19 16:32:03 [INFO] idaes.init.fs.F101.control_volume.properties_in: State variable initialization completed.\n",
      "2020-06-19 16:32:03 [INFO] idaes.init.fs.F101.control_volume.properties_in: Property initialization: optimal - Optimal Solution Found.\n",
      "2020-06-19 16:32:03 [INFO] idaes.init.fs.F101.control_volume.properties_out: Starting initialization\n",
      "2020-06-19 16:32:03 [INFO] idaes.init.fs.F101.control_volume.properties_out: Dew and bubble point initialization: optimal - Optimal Solution Found.\n",
      "2020-06-19 16:32:03 [INFO] idaes.init.fs.F101.control_volume.properties_out: Equilibrium temperature initialization completed.\n",
      "2020-06-19 16:32:03 [INFO] idaes.init.fs.F101.control_volume.properties_out: State variable initialization completed.\n",
      "2020-06-19 16:32:03 [INFO] idaes.init.fs.F101.control_volume.properties_out: Phase equilibrium initialization: optimal - Optimal Solution Found.\n",
      "2020-06-19 16:32:03 [INFO] idaes.init.fs.F101.control_volume: Initialization Complete\n",
      "2020-06-19 16:32:03 [INFO] idaes.init.fs.F101: Initialization Complete: optimal - Optimal Solution Found\n",
      "2020-06-19 16:32:03 [INFO] idaes.init.fs.S101.mixed_state: Starting initialization\n",
      "2020-06-19 16:32:03 [INFO] idaes.init.fs.S101.mixed_state: State variable initialization completed.\n",
      "2020-06-19 16:32:03 [INFO] idaes.init.fs.S101.mixed_state: Property initialization: optimal - Optimal Solution Found.\n",
      "2020-06-19 16:32:03 [INFO] idaes.init.fs.S101.purge_state: Starting initialization\n",
      "2020-06-19 16:32:03 [INFO] idaes.init.fs.S101.purge_state: Dew and bubble point initialization: optimal - Optimal Solution Found.\n",
      "2020-06-19 16:32:03 [INFO] idaes.init.fs.S101.purge_state: Equilibrium temperature initialization completed.\n",
      "2020-06-19 16:32:03 [INFO] idaes.init.fs.S101.purge_state: State variable initialization completed.\n",
      "2020-06-19 16:32:03 [INFO] idaes.init.fs.S101.purge_state: Phase equilibrium initialization: optimal - Optimal Solution Found.\n",
      "2020-06-19 16:32:03 [INFO] idaes.init.fs.S101.purge_state: Property package initialization: optimal - Optimal Solution Found.\n",
      "2020-06-19 16:32:03 [INFO] idaes.init.fs.S101.recycle_state: Starting initialization\n",
      "2020-06-19 16:32:03 [INFO] idaes.init.fs.S101.recycle_state: Dew and bubble point initialization: optimal - Optimal Solution Found.\n",
      "2020-06-19 16:32:03 [INFO] idaes.init.fs.S101.recycle_state: Equilibrium temperature initialization completed.\n",
      "2020-06-19 16:32:03 [INFO] idaes.init.fs.S101.recycle_state: State variable initialization completed.\n",
      "2020-06-19 16:32:03 [INFO] idaes.init.fs.S101.recycle_state: Phase equilibrium initialization: optimal - Optimal Solution Found.\n",
      "2020-06-19 16:32:03 [INFO] idaes.init.fs.S101.recycle_state: Property package initialization: optimal - Optimal Solution Found.\n",
      "2020-06-19 16:32:03 [INFO] idaes.init.fs.S101: Initialization Step 2 Complete: optimal - Optimal Solution Found\n",
      "2020-06-19 16:32:03 [INFO] idaes.init.fs.C101.control_volume.properties_in: Starting initialization\n",
      "2020-06-19 16:32:03 [INFO] idaes.init.fs.C101.control_volume.properties_in: State variable initialization completed.\n",
      "2020-06-19 16:32:03 [INFO] idaes.init.fs.C101.control_volume.properties_in: Property initialization: optimal - Optimal Solution Found.\n",
      "2020-06-19 16:32:03 [INFO] idaes.init.fs.C101.control_volume.properties_out: Starting initialization\n",
      "2020-06-19 16:32:03 [INFO] idaes.init.fs.C101.control_volume.properties_out: Dew and bubble point initialization: optimal - Optimal Solution Found.\n",
      "2020-06-19 16:32:03 [INFO] idaes.init.fs.C101.control_volume.properties_out: Equilibrium temperature initialization completed.\n",
      "2020-06-19 16:32:03 [INFO] idaes.init.fs.C101.control_volume.properties_out: State variable initialization completed.\n",
      "2020-06-19 16:32:03 [INFO] idaes.init.fs.C101.control_volume.properties_out: Phase equilibrium initialization: optimal - Optimal Solution Found.\n",
      "2020-06-19 16:32:03 [INFO] idaes.init.fs.C101.control_volume: Initialization Complete\n",
      "2020-06-19 16:32:04 [INFO] idaes.init.fs.C101: Initialization Complete: optimal - Optimal Solution Found\n",
      "2020-06-19 16:32:04 [INFO] idaes.init.fs.M101.toluene_feed_state: Starting initialization\n",
      "2020-06-19 16:32:04 [INFO] idaes.init.fs.M101.toluene_feed_state: State variable initialization completed.\n",
      "2020-06-19 16:32:04 [INFO] idaes.init.fs.M101.toluene_feed_state: Property initialization: optimal - Optimal Solution Found.\n",
      "2020-06-19 16:32:04 [INFO] idaes.init.fs.M101.hydrogen_feed_state: Starting initialization\n",
      "2020-06-19 16:32:04 [INFO] idaes.init.fs.M101.hydrogen_feed_state: State variable initialization completed.\n"
     ]
    },
    {
     "name": "stdout",
     "output_type": "stream",
     "text": [
      "2020-06-19 16:32:04 [INFO] idaes.init.fs.M101.hydrogen_feed_state: Property initialization: optimal - Optimal Solution Found.\n",
      "2020-06-19 16:32:04 [INFO] idaes.init.fs.M101.vapor_recycle_state: Starting initialization\n",
      "2020-06-19 16:32:04 [INFO] idaes.init.fs.M101.vapor_recycle_state: State variable initialization completed.\n",
      "2020-06-19 16:32:04 [INFO] idaes.init.fs.M101.vapor_recycle_state: Property initialization: optimal - Optimal Solution Found.\n",
      "2020-06-19 16:32:04 [INFO] idaes.init.fs.M101.mixed_state: Starting initialization\n",
      "2020-06-19 16:32:04 [INFO] idaes.init.fs.M101.mixed_state: Dew and bubble point initialization: optimal - Optimal Solution Found.\n",
      "2020-06-19 16:32:04 [INFO] idaes.init.fs.M101.mixed_state: Equilibrium temperature initialization completed.\n",
      "2020-06-19 16:32:04 [INFO] idaes.init.fs.M101.mixed_state: State variable initialization completed.\n",
      "2020-06-19 16:32:04 [INFO] idaes.init.fs.M101.mixed_state: Phase equilibrium initialization: optimal - Optimal Solution Found.\n",
      "2020-06-19 16:32:04 [INFO] idaes.init.fs.M101.mixed_state: Property package initialization: optimal - Optimal Solution Found.\n",
      "2020-06-19 16:32:04 [INFO] idaes.init.fs.M101: Initialization Complete: optimal - Optimal Solution Found\n",
      "2020-06-19 16:32:04 [INFO] idaes.init.fs.H101.control_volume.properties_in: Starting initialization\n",
      "2020-06-19 16:32:04 [INFO] idaes.init.fs.H101.control_volume.properties_in: State variable initialization completed.\n",
      "2020-06-19 16:32:04 [INFO] idaes.init.fs.H101.control_volume.properties_in: Property initialization: optimal - Optimal Solution Found.\n",
      "2020-06-19 16:32:04 [INFO] idaes.init.fs.H101.control_volume.properties_out: Starting initialization\n",
      "2020-06-19 16:32:04 [INFO] idaes.init.fs.H101.control_volume.properties_out: Dew and bubble point initialization: optimal - Optimal Solution Found.\n",
      "2020-06-19 16:32:04 [INFO] idaes.init.fs.H101.control_volume.properties_out: Equilibrium temperature initialization completed.\n",
      "2020-06-19 16:32:04 [INFO] idaes.init.fs.H101.control_volume.properties_out: State variable initialization completed.\n",
      "2020-06-19 16:32:04 [INFO] idaes.init.fs.H101.control_volume.properties_out: Phase equilibrium initialization: optimal - Optimal Solution Found.\n",
      "2020-06-19 16:32:04 [INFO] idaes.init.fs.H101.control_volume: Initialization Complete\n",
      "2020-06-19 16:32:04 [INFO] idaes.init.fs.H101: Initialization Complete: optimal - Optimal Solution Found\n",
      "2020-06-19 16:32:04 [INFO] idaes.init.fs.R101.control_volume.properties_in: Starting initialization\n",
      "2020-06-19 16:32:04 [INFO] idaes.init.fs.R101.control_volume.properties_in: State variable initialization completed.\n",
      "2020-06-19 16:32:04 [INFO] idaes.init.fs.R101.control_volume.properties_in: Property initialization: optimal - Optimal Solution Found.\n",
      "2020-06-19 16:32:04 [INFO] idaes.init.fs.R101.control_volume.properties_out: Starting initialization\n",
      "2020-06-19 16:32:04 [INFO] idaes.init.fs.R101.control_volume.properties_out: Dew and bubble point initialization: optimal - Optimal Solution Found.\n",
      "2020-06-19 16:32:04 [INFO] idaes.init.fs.R101.control_volume.properties_out: Equilibrium temperature initialization completed.\n",
      "2020-06-19 16:32:04 [INFO] idaes.init.fs.R101.control_volume.properties_out: State variable initialization completed.\n",
      "2020-06-19 16:32:04 [INFO] idaes.init.fs.R101.control_volume.properties_out: Phase equilibrium initialization: optimal - Optimal Solution Found.\n",
      "2020-06-19 16:32:04 [INFO] idaes.init.fs.R101.control_volume: Initialization Complete\n",
      "2020-06-19 16:32:04 [INFO] idaes.init.fs.R101: Initialization Complete: optimal - Optimal Solution Found\n",
      "2020-06-19 16:32:04 [INFO] idaes.init.fs.F101.control_volume.properties_in: Starting initialization\n",
      "2020-06-19 16:32:04 [INFO] idaes.init.fs.F101.control_volume.properties_in: State variable initialization completed.\n",
      "2020-06-19 16:32:04 [INFO] idaes.init.fs.F101.control_volume.properties_in: Property initialization: optimal - Optimal Solution Found.\n",
      "2020-06-19 16:32:04 [INFO] idaes.init.fs.F101.control_volume.properties_out: Starting initialization\n",
      "2020-06-19 16:32:04 [INFO] idaes.init.fs.F101.control_volume.properties_out: Dew and bubble point initialization: optimal - Optimal Solution Found.\n",
      "2020-06-19 16:32:04 [INFO] idaes.init.fs.F101.control_volume.properties_out: Equilibrium temperature initialization completed.\n",
      "2020-06-19 16:32:04 [INFO] idaes.init.fs.F101.control_volume.properties_out: State variable initialization completed.\n",
      "2020-06-19 16:32:04 [INFO] idaes.init.fs.F101.control_volume.properties_out: Phase equilibrium initialization: optimal - Optimal Solution Found.\n",
      "2020-06-19 16:32:04 [INFO] idaes.init.fs.F101.control_volume: Initialization Complete\n",
      "2020-06-19 16:32:05 [INFO] idaes.init.fs.F101: Initialization Complete: optimal - Optimal Solution Found\n",
      "2020-06-19 16:32:05 [INFO] idaes.init.fs.S101.mixed_state: Starting initialization\n",
      "2020-06-19 16:32:05 [INFO] idaes.init.fs.S101.mixed_state: State variable initialization completed.\n",
      "2020-06-19 16:32:05 [INFO] idaes.init.fs.S101.mixed_state: Property initialization: optimal - Optimal Solution Found.\n",
      "2020-06-19 16:32:05 [INFO] idaes.init.fs.S101.purge_state: Starting initialization\n",
      "2020-06-19 16:32:05 [INFO] idaes.init.fs.S101.purge_state: Dew and bubble point initialization: optimal - Optimal Solution Found.\n",
      "2020-06-19 16:32:05 [INFO] idaes.init.fs.S101.purge_state: Equilibrium temperature initialization completed.\n",
      "2020-06-19 16:32:05 [INFO] idaes.init.fs.S101.purge_state: State variable initialization completed.\n",
      "2020-06-19 16:32:05 [INFO] idaes.init.fs.S101.purge_state: Phase equilibrium initialization: optimal - Optimal Solution Found.\n",
      "2020-06-19 16:32:05 [INFO] idaes.init.fs.S101.purge_state: Property package initialization: optimal - Optimal Solution Found.\n",
      "2020-06-19 16:32:05 [INFO] idaes.init.fs.S101.recycle_state: Starting initialization\n",
      "2020-06-19 16:32:05 [INFO] idaes.init.fs.S101.recycle_state: Dew and bubble point initialization: optimal - Optimal Solution Found.\n",
      "2020-06-19 16:32:05 [INFO] idaes.init.fs.S101.recycle_state: Equilibrium temperature initialization completed.\n",
      "2020-06-19 16:32:05 [INFO] idaes.init.fs.S101.recycle_state: State variable initialization completed.\n",
      "2020-06-19 16:32:05 [INFO] idaes.init.fs.S101.recycle_state: Phase equilibrium initialization: optimal - Optimal Solution Found.\n",
      "2020-06-19 16:32:05 [INFO] idaes.init.fs.S101.recycle_state: Property package initialization: optimal - Optimal Solution Found.\n",
      "2020-06-19 16:32:05 [INFO] idaes.init.fs.S101: Initialization Step 2 Complete: optimal - Optimal Solution Found\n",
      "2020-06-19 16:32:05 [INFO] idaes.init.fs.C101.control_volume.properties_in: Starting initialization\n",
      "2020-06-19 16:32:05 [INFO] idaes.init.fs.C101.control_volume.properties_in: State variable initialization completed.\n",
      "2020-06-19 16:32:05 [INFO] idaes.init.fs.C101.control_volume.properties_in: Property initialization: optimal - Optimal Solution Found.\n",
      "2020-06-19 16:32:05 [INFO] idaes.init.fs.C101.control_volume.properties_out: Starting initialization\n",
      "2020-06-19 16:32:05 [INFO] idaes.init.fs.C101.control_volume.properties_out: Dew and bubble point initialization: optimal - Optimal Solution Found.\n",
      "2020-06-19 16:32:05 [INFO] idaes.init.fs.C101.control_volume.properties_out: Equilibrium temperature initialization completed.\n",
      "2020-06-19 16:32:05 [INFO] idaes.init.fs.C101.control_volume.properties_out: State variable initialization completed.\n",
      "2020-06-19 16:32:05 [INFO] idaes.init.fs.C101.control_volume.properties_out: Phase equilibrium initialization: optimal - Optimal Solution Found.\n",
      "2020-06-19 16:32:05 [INFO] idaes.init.fs.C101.control_volume: Initialization Complete\n",
      "2020-06-19 16:32:05 [INFO] idaes.init.fs.C101: Initialization Complete: optimal - Optimal Solution Found\n",
      "2020-06-19 16:32:05 [INFO] idaes.init.fs.M101.toluene_feed_state: Starting initialization\n",
      "2020-06-19 16:32:05 [INFO] idaes.init.fs.M101.toluene_feed_state: State variable initialization completed.\n",
      "2020-06-19 16:32:05 [INFO] idaes.init.fs.M101.toluene_feed_state: Property initialization: optimal - Optimal Solution Found.\n",
      "2020-06-19 16:32:05 [INFO] idaes.init.fs.M101.hydrogen_feed_state: Starting initialization\n",
      "2020-06-19 16:32:05 [INFO] idaes.init.fs.M101.hydrogen_feed_state: State variable initialization completed.\n"
     ]
    },
    {
     "name": "stdout",
     "output_type": "stream",
     "text": [
      "2020-06-19 16:32:05 [INFO] idaes.init.fs.M101.hydrogen_feed_state: Property initialization: optimal - Optimal Solution Found.\n",
      "2020-06-19 16:32:05 [INFO] idaes.init.fs.M101.vapor_recycle_state: Starting initialization\n",
      "2020-06-19 16:32:05 [INFO] idaes.init.fs.M101.vapor_recycle_state: State variable initialization completed.\n",
      "2020-06-19 16:32:05 [INFO] idaes.init.fs.M101.vapor_recycle_state: Property initialization: optimal - Optimal Solution Found.\n",
      "2020-06-19 16:32:05 [INFO] idaes.init.fs.M101.mixed_state: Starting initialization\n",
      "2020-06-19 16:32:05 [INFO] idaes.init.fs.M101.mixed_state: Dew and bubble point initialization: optimal - Optimal Solution Found.\n",
      "2020-06-19 16:32:05 [INFO] idaes.init.fs.M101.mixed_state: Equilibrium temperature initialization completed.\n",
      "2020-06-19 16:32:05 [INFO] idaes.init.fs.M101.mixed_state: State variable initialization completed.\n",
      "2020-06-19 16:32:06 [INFO] idaes.init.fs.M101.mixed_state: Phase equilibrium initialization: optimal - Optimal Solution Found.\n",
      "2020-06-19 16:32:06 [INFO] idaes.init.fs.M101.mixed_state: Property package initialization: optimal - Optimal Solution Found.\n",
      "2020-06-19 16:32:06 [INFO] idaes.init.fs.M101: Initialization Complete: optimal - Optimal Solution Found\n",
      "WARNING: Wegstein failed to converge in 5 iterations\n",
      "2020-06-19 16:32:06 [INFO] idaes.init.fs.F102.control_volume.properties_in: Starting initialization\n",
      "2020-06-19 16:32:06 [INFO] idaes.init.fs.F102.control_volume.properties_in: State variable initialization completed.\n",
      "2020-06-19 16:32:06 [INFO] idaes.init.fs.F102.control_volume.properties_in: Property initialization: optimal - Optimal Solution Found.\n",
      "2020-06-19 16:32:06 [INFO] idaes.init.fs.F102.control_volume.properties_out: Starting initialization\n",
      "2020-06-19 16:32:06 [INFO] idaes.init.fs.F102.control_volume.properties_out: Dew and bubble point initialization: optimal - Optimal Solution Found.\n",
      "2020-06-19 16:32:06 [INFO] idaes.init.fs.F102.control_volume.properties_out: Equilibrium temperature initialization completed.\n",
      "2020-06-19 16:32:06 [INFO] idaes.init.fs.F102.control_volume.properties_out: State variable initialization completed.\n",
      "2020-06-19 16:32:06 [INFO] idaes.init.fs.F102.control_volume.properties_out: Phase equilibrium initialization: optimal - Optimal Solution Found.\n",
      "2020-06-19 16:32:06 [INFO] idaes.init.fs.F102.control_volume: Initialization Complete\n",
      "2020-06-19 16:32:06 [INFO] idaes.init.fs.F102: Initialization Complete: optimal - Optimal Solution Found\n"
     ]
    }
   ],
   "source": [
    "seq.run(m, function)"
   ]
  },
  {
   "cell_type": "markdown",
   "metadata": {},
   "source": [
    "<div class=\"alert alert-block alert-info\">\n",
    "<b>Inline Exercise:</b>\n",
    "We have now initialized the flowsheet. Let us run the flowsheet in a simulation mode to look at the results. To do this, complete the last line of code where we pass the model to the solver. You will need to type the following:\n",
    "    \n",
    "results = solver.solve(m, tee=True)\n",
    "\n",
    "Use Shift+Enter to run the cell once you have typed in your code. \n",
    "</div>\n",
    "\n"
   ]
  },
  {
   "cell_type": "code",
   "execution_count": 46,
   "metadata": {
    "tags": [
     "exercise"
    ]
   },
   "outputs": [],
   "source": [
    "# Create the solver object\n",
    "\n",
    "\n",
    "# Solve the model\n"
   ]
  },
  {
   "cell_type": "code",
   "execution_count": 47,
   "metadata": {
    "tags": [
     "solution"
    ]
   },
   "outputs": [
    {
     "name": "stdout",
     "output_type": "stream",
     "text": [
      "Ipopt 3.13.2: tol=1e-06\n",
      "max_iter=5000\n",
      "\n",
      "\n",
      "******************************************************************************\n",
      "This program contains Ipopt, a library for large-scale nonlinear optimization.\n",
      " Ipopt is released as open source code under the Eclipse Public License (EPL).\n",
      "         For more information visit http://projects.coin-or.org/Ipopt\n",
      "\n",
      "This version of Ipopt was compiled from source code available at\n",
      "    https://github.com/IDAES/Ipopt as part of the Institute for the Design of\n",
      "    Advanced Energy Systems Process Systems Engineering Framework (IDAES PSE\n",
      "    Framework) Copyright (c) 2018-2019. See https://github.com/IDAES/idaes-pse.\n",
      "\n",
      "This version of Ipopt was compiled using HSL, a collection of Fortran codes\n",
      "    for large-scale scientific computation.  All technical papers, sales and\n",
      "    publicity material resulting from use of the HSL codes within IPOPT must\n",
      "    contain the following acknowledgement:\n",
      "        HSL, a collection of Fortran codes for large-scale scientific\n",
      "        computation. See http://www.hsl.rl.ac.uk.\n",
      "******************************************************************************\n",
      "\n",
      "This is Ipopt version 3.13.2, running with linear solver ma27.\n",
      "\n",
      "Number of nonzeros in equality constraint Jacobian...:     1127\n",
      "Number of nonzeros in inequality constraint Jacobian.:        0\n",
      "Number of nonzeros in Lagrangian Hessian.............:      762\n",
      "\n",
      "Total number of variables............................:      283\n",
      "                     variables with only lower bounds:      122\n",
      "                variables with lower and upper bounds:       34\n",
      "                     variables with only upper bounds:        0\n",
      "Total number of equality constraints.................:      283\n",
      "Total number of inequality constraints...............:        0\n",
      "        inequality constraints with only lower bounds:        0\n",
      "   inequality constraints with lower and upper bounds:        0\n",
      "        inequality constraints with only upper bounds:        0\n",
      "\n",
      "iter    objective    inf_pr   inf_du lg(mu)  ||d||  lg(rg) alpha_du alpha_pr  ls\n",
      "   0  0.0000000e+00 1.43e+04 1.00e+00  -1.0 0.00e+00    -  0.00e+00 0.00e+00   0\n",
      "   1  0.0000000e+00 1.53e+03 9.99e+00  -1.0 2.14e+03    -  9.74e-01 9.37e-01h  1\n",
      "   2  0.0000000e+00 3.05e+01 1.85e+02  -1.0 4.61e+02    -  9.90e-01 9.90e-01h  1\n",
      "   3  0.0000000e+00 3.36e-01 6.79e+03  -1.0 2.93e+01    -  9.90e-01 9.92e-01h  1\n",
      "   4  0.0000000e+00 9.32e-04 1.03e+05  -2.5 7.81e+00    -  3.01e-01 1.00e+00h  1\n",
      "   5  0.0000000e+00 2.40e-04 2.96e+04  -2.5 3.91e+00    -  9.99e-01 1.00e+00h  1\n",
      "   6  0.0000000e+00 6.00e-05 3.55e+03  -2.5 1.95e+00    -  1.00e+00 1.00e+00h  1\n",
      "Cannot recompute multipliers for feasibility problem.  Error in eq_mult_calculator\n",
      "\n",
      "Number of Iterations....: 6\n",
      "\n",
      "                                   (scaled)                 (unscaled)\n",
      "Objective...............:   0.0000000000000000e+00    0.0000000000000000e+00\n",
      "Dual infeasibility......:   2.8284271247459081e+05    2.8284271247459081e+05\n",
      "Constraint violation....:   1.4224158237164300e-08    5.9957237681373954e-05\n",
      "Complementarity.........:   0.0000000000000000e+00    0.0000000000000000e+00\n",
      "Overall NLP error.......:   1.4224158237164300e-08    2.8284271247459081e+05\n",
      "\n",
      "\n",
      "Number of objective function evaluations             = 7\n",
      "Number of objective gradient evaluations             = 7\n",
      "Number of equality constraint evaluations            = 7\n",
      "Number of inequality constraint evaluations          = 0\n",
      "Number of equality constraint Jacobian evaluations   = 7\n",
      "Number of inequality constraint Jacobian evaluations = 0\n",
      "Number of Lagrangian Hessian evaluations             = 6\n",
      "Total CPU secs in IPOPT (w/o function evaluations)   =      0.003\n",
      "Total CPU secs in NLP function evaluations           =      0.001\n",
      "\n",
      "EXIT: Optimal Solution Found.\n"
     ]
    }
   ],
   "source": [
    "# Create the solver object\n",
    "solver = SolverFactory('ipopt')\n",
    "solver.options = {'tol': 1e-6, 'max_iter': 5000}\n",
    "\n",
    "# Solve the model\n",
    "results = solver.solve(m, tee=True)"
   ]
  },
  {
   "cell_type": "code",
   "execution_count": 48,
   "metadata": {
    "tags": [
     "testing",
     "remove_cell"
    ]
   },
   "outputs": [],
   "source": [
    "# Check solver solve status\n",
    "from pyomo.environ import TerminationCondition\n",
    "assert results.solver.termination_condition == TerminationCondition.optimal"
   ]
  },
  {
   "cell_type": "markdown",
   "metadata": {},
   "source": [
    "## Analyze the results of the square problem\n",
    "\n",
    "\n",
    "What is the total operating cost? "
   ]
  },
  {
   "cell_type": "code",
   "execution_count": 49,
   "metadata": {},
   "outputs": [
    {
     "name": "stdout",
     "output_type": "stream",
     "text": [
      "operating cost = $ 383637.52136099926\n"
     ]
    }
   ],
   "source": [
    "print('operating cost = $', value(m.fs.operating_cost))"
   ]
  },
  {
   "cell_type": "code",
   "execution_count": 50,
   "metadata": {
    "tags": [
     "testing",
     "remove_cell"
    ]
   },
   "outputs": [
    {
     "ename": "AssertionError",
     "evalue": "",
     "output_type": "error",
     "traceback": [
      "\u001b[0;31m---------------------------------------------------------------------------\u001b[0m",
      "\u001b[0;31mAssertionError\u001b[0m                            Traceback (most recent call last)",
      "\u001b[0;32m<ipython-input-50-cbc3c17d3ea4>\u001b[0m in \u001b[0;36m<module>\u001b[0;34m\u001b[0m\n\u001b[1;32m      1\u001b[0m \u001b[0;32mimport\u001b[0m \u001b[0mpytest\u001b[0m\u001b[0;34m\u001b[0m\u001b[0;34m\u001b[0m\u001b[0m\n\u001b[0;32m----> 2\u001b[0;31m \u001b[0;32massert\u001b[0m \u001b[0mvalue\u001b[0m\u001b[0;34m(\u001b[0m\u001b[0mm\u001b[0m\u001b[0;34m.\u001b[0m\u001b[0mfs\u001b[0m\u001b[0;34m.\u001b[0m\u001b[0moperating_cost\u001b[0m\u001b[0;34m)\u001b[0m \u001b[0;34m==\u001b[0m \u001b[0mpytest\u001b[0m\u001b[0;34m.\u001b[0m\u001b[0mapprox\u001b[0m\u001b[0;34m(\u001b[0m\u001b[0;36m419122.3387\u001b[0m\u001b[0;34m,\u001b[0m \u001b[0mabs\u001b[0m\u001b[0;34m=\u001b[0m\u001b[0;36m1e-3\u001b[0m\u001b[0;34m)\u001b[0m\u001b[0;34m\u001b[0m\u001b[0;34m\u001b[0m\u001b[0m\n\u001b[0m",
      "\u001b[0;31mAssertionError\u001b[0m: "
     ]
    }
   ],
   "source": [
    "import pytest\n",
    "assert value(m.fs.operating_cost) == pytest.approx(419122.3387, abs=1e-3)"
   ]
  },
  {
   "cell_type": "markdown",
   "metadata": {},
   "source": [
    "For this operating cost, what is the amount of benzene we are able to produce and what purity we are able to achieve? "
   ]
  },
  {
   "cell_type": "code",
   "execution_count": 51,
   "metadata": {
    "scrolled": true
   },
   "outputs": [
    {
     "name": "stdout",
     "output_type": "stream",
     "text": [
      "\n",
      "====================================================================================\n",
      "Unit : fs.F102                                                             Time: 0.0\n",
      "------------------------------------------------------------------------------------\n",
      "    Unit Performance\n",
      "\n",
      "    Variables: \n",
      "\n",
      "    Key             : Value       : Fixed : Bounds\n",
      "          Heat Duty :      2422.8 : False : (None, None)\n",
      "    Pressure Change : -2.0000e+05 :  True : (None, None)\n",
      "\n",
      "------------------------------------------------------------------------------------\n",
      "    Stream Table\n",
      "                                               Inlet    Vapor Outlet  Liquid Outlet\n",
      "    flow_mol_phase_comp ('Liq', 'benzene')     0.19808   1.0000e-08       0.14661  \n",
      "    flow_mol_phase_comp ('Liq', 'toluene')    0.059706   1.0000e-08      0.052373  \n",
      "    flow_mol_phase_comp ('Vap', 'benzene')  1.0000e-08     0.051462    1.0000e-08  \n",
      "    flow_mol_phase_comp ('Vap', 'toluene')  1.0000e-08    0.0073326    1.0000e-08  \n",
      "    flow_mol_phase_comp ('Vap', 'hydrogen') 1.0000e-08   1.0000e-08    1.0000e-08  \n",
      "    flow_mol_phase_comp ('Vap', 'methane')  1.0000e-08   1.0000e-08    1.0000e-08  \n",
      "    temperature                                 325.00       370.00        370.00  \n",
      "    pressure                                3.5000e+05   1.5000e+05    1.5000e+05  \n",
      "====================================================================================\n",
      "\n",
      "benzene purity =  0.875284694241264\n"
     ]
    }
   ],
   "source": [
    "m.fs.F102.report()\n",
    "\n",
    "print()\n",
    "print('benzene purity = ', value(m.fs.purity))\n"
   ]
  },
  {
   "cell_type": "code",
   "execution_count": 52,
   "metadata": {
    "tags": [
     "testing",
     "remove_cell"
    ]
   },
   "outputs": [
    {
     "ename": "AssertionError",
     "evalue": "",
     "output_type": "error",
     "traceback": [
      "\u001b[0;31m---------------------------------------------------------------------------\u001b[0m",
      "\u001b[0;31mAssertionError\u001b[0m                            Traceback (most recent call last)",
      "\u001b[0;32m<ipython-input-52-abf33fb2e41c>\u001b[0m in \u001b[0;36m<module>\u001b[0;34m\u001b[0m\n\u001b[0;32m----> 1\u001b[0;31m \u001b[0;32massert\u001b[0m \u001b[0mvalue\u001b[0m\u001b[0;34m(\u001b[0m\u001b[0mm\u001b[0m\u001b[0;34m.\u001b[0m\u001b[0mfs\u001b[0m\u001b[0;34m.\u001b[0m\u001b[0mpurity\u001b[0m\u001b[0;34m)\u001b[0m \u001b[0;34m==\u001b[0m \u001b[0mpytest\u001b[0m\u001b[0;34m.\u001b[0m\u001b[0mapprox\u001b[0m\u001b[0;34m(\u001b[0m\u001b[0;36m0.82429\u001b[0m\u001b[0;34m,\u001b[0m \u001b[0mabs\u001b[0m\u001b[0;34m=\u001b[0m\u001b[0;36m1e-3\u001b[0m\u001b[0;34m)\u001b[0m\u001b[0;34m\u001b[0m\u001b[0;34m\u001b[0m\u001b[0m\n\u001b[0m\u001b[1;32m      2\u001b[0m \u001b[0;34m\u001b[0m\u001b[0m\n\u001b[1;32m      3\u001b[0m \u001b[0;32massert\u001b[0m \u001b[0mvalue\u001b[0m\u001b[0;34m(\u001b[0m\u001b[0mm\u001b[0m\u001b[0;34m.\u001b[0m\u001b[0mfs\u001b[0m\u001b[0;34m.\u001b[0m\u001b[0mF102\u001b[0m\u001b[0;34m.\u001b[0m\u001b[0mheat_duty\u001b[0m\u001b[0;34m[\u001b[0m\u001b[0;36m0\u001b[0m\u001b[0;34m]\u001b[0m\u001b[0;34m)\u001b[0m \u001b[0;34m==\u001b[0m \u001b[0mpytest\u001b[0m\u001b[0;34m.\u001b[0m\u001b[0mapprox\u001b[0m\u001b[0;34m(\u001b[0m\u001b[0;36m7352.4828\u001b[0m\u001b[0;34m,\u001b[0m \u001b[0mabs\u001b[0m\u001b[0;34m=\u001b[0m\u001b[0;36m1e-3\u001b[0m\u001b[0;34m)\u001b[0m\u001b[0;34m\u001b[0m\u001b[0;34m\u001b[0m\u001b[0m\n\u001b[1;32m      4\u001b[0m \u001b[0;32massert\u001b[0m \u001b[0mvalue\u001b[0m\u001b[0;34m(\u001b[0m\u001b[0mm\u001b[0m\u001b[0;34m.\u001b[0m\u001b[0mfs\u001b[0m\u001b[0;34m.\u001b[0m\u001b[0mF102\u001b[0m\u001b[0;34m.\u001b[0m\u001b[0mvap_outlet\u001b[0m\u001b[0;34m.\u001b[0m\u001b[0mpressure\u001b[0m\u001b[0;34m[\u001b[0m\u001b[0;36m0\u001b[0m\u001b[0;34m]\u001b[0m\u001b[0;34m)\u001b[0m \u001b[0;34m==\u001b[0m \u001b[0mpytest\u001b[0m\u001b[0;34m.\u001b[0m\u001b[0mapprox\u001b[0m\u001b[0;34m(\u001b[0m\u001b[0;36m1.5000e+05\u001b[0m\u001b[0;34m,\u001b[0m \u001b[0mabs\u001b[0m\u001b[0;34m=\u001b[0m\u001b[0;36m1e-3\u001b[0m\u001b[0;34m)\u001b[0m\u001b[0;34m\u001b[0m\u001b[0;34m\u001b[0m\u001b[0m\n",
      "\u001b[0;31mAssertionError\u001b[0m: "
     ]
    }
   ],
   "source": [
    "assert value(m.fs.purity) == pytest.approx(0.82429, abs=1e-3)\n",
    "\n",
    "assert value(m.fs.F102.heat_duty[0]) == pytest.approx(7352.4828, abs=1e-3)\n",
    "assert value(m.fs.F102.vap_outlet.pressure[0]) == pytest.approx(1.5000e+05, abs=1e-3)"
   ]
  },
  {
   "cell_type": "markdown",
   "metadata": {},
   "source": [
    "Next, let's look at how much benzene we are loosing with the light gases out of F101. IDAES has tools for creating stream tables based on the `Arcs` and/or `Ports` in a flowsheet. Let us create and print a simple stream table showing the stream leaving the reactor and the vapor stream from F101.\n",
    "\n",
    "<div class=\"alert alert-block alert-info\">\n",
    "<b>Inline Exercise:</b>\n",
    "How much benzene are we loosing in the F101 vapor outlet stream?\n",
    "</div>\n"
   ]
  },
  {
   "cell_type": "code",
   "execution_count": 53,
   "metadata": {},
   "outputs": [
    {
     "name": "stdout",
     "output_type": "stream",
     "text": [
      "                                          Reactor   Light Gases\n",
      "flow_mol_phase_comp ('Liq', 'benzene')  3.1613e-07  1.0000e-08 \n",
      "flow_mol_phase_comp ('Liq', 'toluene')  1.7310e-07  1.0000e-08 \n",
      "flow_mol_phase_comp ('Vap', 'benzene')     0.39040     0.19232 \n",
      "flow_mol_phase_comp ('Vap', 'toluene')    0.078826    0.019121 \n",
      "flow_mol_phase_comp ('Vap', 'hydrogen')    0.31755     0.31755 \n",
      "flow_mol_phase_comp ('Vap', 'methane')      1.2826      1.2826 \n",
      "temperature                                 607.26      325.00 \n",
      "pressure                                3.5000e+05  3.5000e+05 \n"
     ]
    }
   ],
   "source": [
    "from idaes.core.util.tables import create_stream_table_dataframe, stream_table_dataframe_to_string\n",
    "\n",
    "st = create_stream_table_dataframe({\"Reactor\": m.fs.s05, \"Light Gases\": m.fs.s06})\n",
    "print(stream_table_dataframe_to_string(st))"
   ]
  },
  {
   "cell_type": "markdown",
   "metadata": {},
   "source": [
    "<div class=\"alert alert-block alert-info\">\n",
    "<b>Inline Exercise:</b>\n",
    "You can querry additional variables here if you like. \n",
    "\n",
    "Use Shift+Enter to run the cell once you have typed in your code. \n",
    "</div>\n"
   ]
  },
  {
   "cell_type": "markdown",
   "metadata": {},
   "source": [
    "## Optimization\n",
    "\n",
    "\n",
    "We saw from the results above that the total operating cost for the base case was $419,122 per year. We are producing 0.142 mol/s of benzene at a purity of 82\\%. However, we are losing around 42\\% of benzene in F101 vapor outlet stream. \n",
    "\n",
    "Let us try to minimize this cost such that:\n",
    "- we are producing at least 0.15 mol/s of benzene in F102 vapor outlet i.e. our product stream\n",
    "- purity of benzene i.e. the mole fraction of benzene in F102 vapor outlet is at least 80%\n",
    "- restricting the benzene loss in F101 vapor outlet to less than 20%\n",
    "\n",
    "For this problem, our decision variables are as follows:\n",
    "- H101 outlet temperature\n",
    "- R101 cooling duty provided\n",
    "- F101 outlet temperature\n",
    "- F102 outlet temperature\n",
    "- F102 deltaP in the flash tank\n"
   ]
  },
  {
   "cell_type": "markdown",
   "metadata": {},
   "source": [
    "Let us declare our objective function for this problem. "
   ]
  },
  {
   "cell_type": "code",
   "execution_count": 55,
   "metadata": {},
   "outputs": [],
   "source": [
    "m.fs.objective = Objective(expr=m.fs.operating_cost)"
   ]
  },
  {
   "cell_type": "markdown",
   "metadata": {},
   "source": [
    "Now, we need to unfix the decision variables as we had solved a square problem (degrees of freedom = 0) until now. "
   ]
  },
  {
   "cell_type": "code",
   "execution_count": 56,
   "metadata": {},
   "outputs": [],
   "source": [
    "m.fs.H101.outlet.temperature.unfix()\n",
    "m.fs.R101.heat_duty.unfix()\n",
    "m.fs.F101.vap_outlet.temperature.unfix()\n",
    "m.fs.F102.vap_outlet.temperature.unfix()"
   ]
  },
  {
   "cell_type": "markdown",
   "metadata": {},
   "source": [
    "<div class=\"alert alert-block alert-info\">\n",
    "<b>Inline Exercise:</b>\n",
    "Let us now unfix the remaining variable which is F102 pressure drop (F102.deltaP) \n",
    "\n",
    "Use Shift+Enter to run the cell once you have typed in your code. \n",
    "</div>\n",
    "\n"
   ]
  },
  {
   "cell_type": "code",
   "execution_count": 57,
   "metadata": {
    "tags": [
     "exercise"
    ]
   },
   "outputs": [],
   "source": [
    "#Todo: Unfix deltaP for F102\n"
   ]
  },
  {
   "cell_type": "code",
   "execution_count": 58,
   "metadata": {
    "tags": [
     "solution"
    ]
   },
   "outputs": [],
   "source": [
    "#Todo: Unfix deltaP for F102\n",
    "m.fs.F102.deltaP.unfix()"
   ]
  },
  {
   "cell_type": "code",
   "execution_count": 59,
   "metadata": {
    "tags": [
     "testing",
     "remove_cell"
    ]
   },
   "outputs": [],
   "source": [
    "assert degrees_of_freedom(m) == 5"
   ]
  },
  {
   "cell_type": "markdown",
   "metadata": {},
   "source": [
    "Next, we need to set bounds on these decision variables to values shown below:\n",
    "\n",
    " - H101 outlet temperature [500, 600] K\n",
    " - R101 outlet temperature [600, 800] K\n",
    " - F101 outlet temperature [298, 450] K\n",
    " - F102 outlet temperature [298, 450] K\n",
    " - F102 outlet pressure [105000, 110000] Pa\n",
    "\n",
    "Let us first set the variable bound for the H101 outlet temperature as shown below:"
   ]
  },
  {
   "cell_type": "code",
   "execution_count": 60,
   "metadata": {},
   "outputs": [],
   "source": [
    "m.fs.H101.outlet.temperature[0].setlb(500)\n",
    "m.fs.H101.outlet.temperature[0].setub(600)"
   ]
  },
  {
   "cell_type": "markdown",
   "metadata": {},
   "source": [
    "<div class=\"alert alert-block alert-info\">\n",
    "<b>Inline Exercise:</b>\n",
    "Now, set the variable bound for the R101 outlet temperature.\n",
    "\n",
    "Use Shift+Enter to run the cell once you have typed in your code. \n",
    "</div>"
   ]
  },
  {
   "cell_type": "code",
   "execution_count": 61,
   "metadata": {
    "tags": [
     "exercise"
    ]
   },
   "outputs": [],
   "source": [
    "#Todo: Set the bounds for reactor outlet temperature\n"
   ]
  },
  {
   "cell_type": "code",
   "execution_count": 62,
   "metadata": {
    "tags": [
     "solution"
    ]
   },
   "outputs": [],
   "source": [
    "#Todo: Set the bounds for reactor outlet temperature\n",
    "m.fs.R101.outlet.temperature[0].setlb(600)\n",
    "m.fs.R101.outlet.temperature[0].setub(800)"
   ]
  },
  {
   "cell_type": "markdown",
   "metadata": {},
   "source": [
    "Let us fix the bounds for the rest of the decision variables. "
   ]
  },
  {
   "cell_type": "code",
   "execution_count": 63,
   "metadata": {},
   "outputs": [],
   "source": [
    "m.fs.F101.vap_outlet.temperature[0].setlb(298.0)\n",
    "m.fs.F101.vap_outlet.temperature[0].setub(450.0)\n",
    "m.fs.F102.vap_outlet.temperature[0].setlb(298.0)\n",
    "m.fs.F102.vap_outlet.temperature[0].setub(450.0)\n",
    "m.fs.F102.vap_outlet.pressure[0].setlb(105000)\n",
    "m.fs.F102.vap_outlet.pressure[0].setub(110000)"
   ]
  },
  {
   "cell_type": "markdown",
   "metadata": {},
   "source": [
    "Now, the only things left to define are our constraints on overhead loss in F101, product flow rate and purity in F102. Let us first look at defining a constraint for the overhead loss in F101 where we are restricting the benzene leaving the vapor stream to less than 20 \\% of the benzene available in the reactor outlet. "
   ]
  },
  {
   "cell_type": "code",
   "execution_count": 64,
   "metadata": {},
   "outputs": [],
   "source": [
    "m.fs.overhead_loss = Constraint(\n",
    "        expr=m.fs.F101.vap_outlet.flow_mol_phase_comp[0, \"Vap\", \"benzene\"] <=\n",
    "        0.20 * m.fs.R101.outlet.flow_mol_phase_comp[0, \"Vap\", \"benzene\"])"
   ]
  },
  {
   "cell_type": "markdown",
   "metadata": {},
   "source": [
    "<div class=\"alert alert-block alert-info\">\n",
    "<b>Inline Exercise:</b>\n",
    "Now, add the constraint such that we are producing at least 0.15 mol/s of benzene in the product stream which is the vapor outlet of F102. Let us name this constraint as m.fs.product_flow. \n",
    "\n",
    "Use Shift+Enter to run the cell once you have typed in your code. \n",
    "</div>"
   ]
  },
  {
   "cell_type": "code",
   "execution_count": 65,
   "metadata": {
    "tags": [
     "exercise"
    ]
   },
   "outputs": [],
   "source": [
    "#Todo: Add minimum product flow constraint\n"
   ]
  },
  {
   "cell_type": "code",
   "execution_count": 66,
   "metadata": {
    "tags": [
     "solution"
    ]
   },
   "outputs": [],
   "source": [
    "#Todo: Add minimum product flow constraint\n",
    "m.fs.product_flow = Constraint(\n",
    "        expr=m.fs.F102.vap_outlet.flow_mol_phase_comp[0, \"Vap\", \"benzene\"] >=\n",
    "        0.15)"
   ]
  },
  {
   "cell_type": "markdown",
   "metadata": {},
   "source": [
    "Let us add the final constraint on product purity or the mole fraction of benzene in the product stream such that it is at least greater than 80%. "
   ]
  },
  {
   "cell_type": "code",
   "execution_count": 67,
   "metadata": {},
   "outputs": [],
   "source": [
    "m.fs.product_purity = Constraint(expr=m.fs.purity >= 0.80)"
   ]
  },
  {
   "cell_type": "markdown",
   "metadata": {},
   "source": [
    "\n",
    "We have now defined the optimization problem and we are now ready to solve this problem. \n",
    "\n",
    "\n"
   ]
  },
  {
   "cell_type": "code",
   "execution_count": 68,
   "metadata": {},
   "outputs": [
    {
     "name": "stdout",
     "output_type": "stream",
     "text": [
      "Ipopt 3.13.2: tol=1e-06\n",
      "max_iter=5000\n",
      "\n",
      "\n",
      "******************************************************************************\n",
      "This program contains Ipopt, a library for large-scale nonlinear optimization.\n",
      " Ipopt is released as open source code under the Eclipse Public License (EPL).\n",
      "         For more information visit http://projects.coin-or.org/Ipopt\n",
      "\n",
      "This version of Ipopt was compiled from source code available at\n",
      "    https://github.com/IDAES/Ipopt as part of the Institute for the Design of\n",
      "    Advanced Energy Systems Process Systems Engineering Framework (IDAES PSE\n",
      "    Framework) Copyright (c) 2018-2019. See https://github.com/IDAES/idaes-pse.\n",
      "\n",
      "This version of Ipopt was compiled using HSL, a collection of Fortran codes\n",
      "    for large-scale scientific computation.  All technical papers, sales and\n",
      "    publicity material resulting from use of the HSL codes within IPOPT must\n",
      "    contain the following acknowledgement:\n",
      "        HSL, a collection of Fortran codes for large-scale scientific\n",
      "        computation. See http://www.hsl.rl.ac.uk.\n",
      "******************************************************************************\n",
      "\n",
      "This is Ipopt version 3.13.2, running with linear solver ma27.\n",
      "\n",
      "Number of nonzeros in equality constraint Jacobian...:     1138\n",
      "Number of nonzeros in inequality constraint Jacobian.:        5\n",
      "Number of nonzeros in Lagrangian Hessian.............:      804\n",
      "\n",
      "Total number of variables............................:      288\n",
      "                     variables with only lower bounds:      122\n",
      "                variables with lower and upper bounds:       37\n",
      "                     variables with only upper bounds:        0\n",
      "Total number of equality constraints.................:      283\n",
      "Total number of inequality constraints...............:        3\n",
      "        inequality constraints with only lower bounds:        2\n",
      "   inequality constraints with lower and upper bounds:        0\n",
      "        inequality constraints with only upper bounds:        1\n",
      "\n",
      "iter    objective    inf_pr   inf_du lg(mu)  ||d||  lg(rg) alpha_du alpha_pr  ls\n",
      "   0  3.8363752e+05 3.76e+04 6.94e+00  -1.0 0.00e+00    -  0.00e+00 0.00e+00   0\n",
      "   1  3.8067739e+05 3.76e+04 1.45e+01  -1.0 1.05e+08    -  6.78e-05 4.64e-06f  1\n",
      "   2  3.8031076e+05 3.76e+04 1.10e+02  -1.0 8.88e+05    -  3.83e-04 5.29e-05f  1\n",
      "   3  3.7525853e+05 3.76e+04 3.82e+01  -1.0 1.06e+06    -  4.09e-04 6.57e-04f  1\n",
      "   4  2.6008897e+05 3.75e+04 4.02e+02  -1.0 9.80e+06    -  4.43e-05 1.55e-03f  1\n",
      "   5  2.5893590e+05 3.75e+04 4.40e+04  -1.0 1.58e+05    -  1.53e-01 1.03e-03f  1\n",
      "   6  2.5726438e+05 3.47e+04 4.06e+04  -1.0 3.99e+04    -  7.55e-02 7.56e-02f  1\n",
      "   7  2.6573060e+05 2.65e+04 1.37e+04  -1.0 3.69e+04    -  7.26e-02 2.39e-01h  1\n",
      "   8  2.8375281e+05 9.77e+03 9.26e+04  -1.0 2.81e+04    -  8.82e-01 6.57e-01h  1\n",
      "   9  2.9050648e+05 3.42e+03 1.23e+05  -1.0 9.65e+03    -  6.11e-01 6.67e-01h  1\n",
      "iter    objective    inf_pr   inf_du lg(mu)  ||d||  lg(rg) alpha_du alpha_pr  ls\n",
      "  10  2.9096442e+05 2.97e+03 1.10e+05  -1.0 6.14e+03    -  2.57e-02 1.32e-01h  1\n",
      "  11  2.9096880e+05 2.96e+03 1.10e+05  -1.0 8.86e+03    -  9.88e-01 1.52e-03h  1\n",
      "  12  2.9096899e+05 2.96e+03 1.66e+07  -1.0 7.17e+03    -  1.14e-01 6.79e-05h  1\n",
      "  13  2.9096923e+05 2.96e+03 1.87e+11  -1.0 7.31e+03    -  9.90e-01 8.70e-05h  1\n",
      "  14r 2.9096923e+05 2.96e+03 1.00e+03   0.2 0.00e+00    -  0.00e+00 2.50e-07R  4\n",
      "  15r 2.9096886e+05 1.78e+03 1.01e+03   0.2 1.75e+04    -  1.19e-02 9.95e-04f  1\n",
      "  16  2.9096822e+05 1.78e+03 3.09e+04  -1.0 3.06e+04    -  9.23e-02 3.49e-06f  1\n",
      "  17  2.9096870e+05 1.78e+03 3.75e+07  -1.0 2.77e+03    -  9.50e-01 1.55e-04h  1\n",
      "  18r 2.9096870e+05 1.78e+03 1.00e+03  -0.4 0.00e+00    -  0.00e+00 2.55e-07R  4\n",
      "  19r 2.9097057e+05 6.46e+02 1.01e+03  -0.4 3.69e+04    -  1.14e-02 9.91e-04f  1\n",
      "iter    objective    inf_pr   inf_du lg(mu)  ||d||  lg(rg) alpha_du alpha_pr  ls\n",
      "  20  2.9097047e+05 6.46e+02 3.20e+05  -1.0 2.73e+03    -  9.54e-01 1.06e-05h  1\n",
      "  21  2.9097056e+05 6.46e+02 2.31e+09  -1.0 4.01e+03    -  2.63e-01 2.91e-05h  1\n",
      "  22r 2.9097056e+05 6.46e+02 1.00e+03  -0.6 0.00e+00    -  0.00e+00 2.59e-07R  2\n",
      "  23r 2.9097823e+05 2.24e+02 1.00e+03  -0.6 4.47e+04    -  1.26e-02 2.81e-03f  1\n",
      "  24r 2.9099085e+05 3.74e+01 9.89e+02  -0.6 4.43e+04    -  1.18e-01 1.58e-02f  1\n",
      "  25  2.9098917e+05 3.74e+01 8.42e+03  -1.0 9.01e+04    -  2.50e-02 3.12e-06f  1\n",
      "  26  2.9099060e+05 3.74e+01 1.13e+06  -1.0 1.77e+03    -  9.52e-01 4.70e-04h  1\n",
      "  27r 2.9099060e+05 3.74e+01 1.00e+03  -0.8 0.00e+00    -  0.00e+00 2.71e-07R  6\n",
      "  28r 2.9102149e+05 1.24e+01 9.71e+02  -0.8 5.51e+04    -  8.99e-02 2.79e-02f  1\n",
      "  29  2.9101984e+05 1.24e+01 7.99e+03  -1.0 8.90e+04    -  2.35e-02 3.10e-06f  1\n",
      "iter    objective    inf_pr   inf_du lg(mu)  ||d||  lg(rg) alpha_du alpha_pr  ls\n",
      "  30  2.9102122e+05 1.24e+01 1.09e+06  -1.0 4.27e+02    -  9.51e-01 4.64e-04h  1\n",
      "  31  2.9102125e+05 1.24e+01 2.24e+10  -1.0 1.08e+03    -  2.27e-01 1.09e-05h  1\n",
      "  32r 2.9102125e+05 1.24e+01 1.00e+03  -1.0 0.00e+00    -  0.00e+00 3.06e-07R  3\n",
      "  33r 2.9103112e+05 1.10e+01 9.91e+02  -1.0 1.62e+04    -  7.00e-02 8.36e-03f  1\n",
      "  34  2.9103098e+05 1.10e+01 1.24e+05  -1.0 1.11e+04    -  3.64e-01 2.17e-06f  2\n",
      "  35  2.9103121e+05 1.10e+01 5.71e+08  -1.0 4.26e+02    -  9.29e-01 7.76e-05h  1\n",
      "  36r 2.9103121e+05 1.10e+01 1.00e+03  -1.0 0.00e+00    -  0.00e+00 4.15e-07R  2\n",
      "  37r 2.9107741e+05 6.02e+00 9.48e+02  -1.0 1.16e+02    -  8.70e-02 5.18e-02f  1\n",
      "  38r 2.9109402e+05 2.48e+01 7.61e+02  -1.0 2.53e+01    -  6.55e-01 1.93e-01f  1\n",
      "  39r 2.9108962e+05 2.78e+01 3.65e+02  -1.0 3.42e+01    -  5.43e-01 5.20e-01f  1\n",
      "iter    objective    inf_pr   inf_du lg(mu)  ||d||  lg(rg) alpha_du alpha_pr  ls\n",
      "  40r 2.9086448e+05 1.44e+00 8.60e+00  -1.0 3.30e+01    -  9.89e-01 1.00e+00f  1\n",
      "  41r 2.9087681e+05 7.04e-01 1.28e+01  -1.0 2.46e+01    -  9.27e-01 1.00e+00f  1\n",
      "  42r 2.9142821e+05 8.21e+00 2.97e+01  -1.0 7.54e+01    -  9.08e-01 9.49e-01f  1\n",
      "  43r 2.9125930e+05 5.44e-01 9.26e-02  -1.0 2.29e+01    -  1.00e+00 1.00e+00f  1\n",
      "  44r 2.9129685e+05 1.06e+01 4.24e+01  -3.8 5.51e+01    -  9.52e-01 7.48e-01f  1\n",
      "  45r 2.9424140e+05 2.52e+00 3.07e+01  -3.8 4.99e+02    -  9.01e-01 7.65e-01f  1\n",
      "  46r 2.9415339e+05 7.29e-01 5.76e+01  -3.8 2.69e+01    -  1.00e+00 7.23e-01f  1\n",
      "  47r 2.9400222e+05 1.63e-01 7.44e+01  -3.8 3.19e+01    -  1.00e+00 8.17e-01f  1\n",
      "  48r 2.9395530e+05 6.75e-02 1.34e+00  -3.8 1.17e+01    -  1.00e+00 1.00e+00f  1\n",
      "  49r 2.9417693e+05 4.65e-02 4.87e+01  -3.8 2.83e+01    -  1.00e+00 8.85e-01h  1\n",
      "iter    objective    inf_pr   inf_du lg(mu)  ||d||  lg(rg) alpha_du alpha_pr  ls\n",
      "  50r 2.9411646e+05 1.04e-02 1.34e+02  -3.8 7.17e+00    -  4.17e-01 1.00e+00f  1\n",
      "  51r 2.9415102e+05 1.04e-02 1.85e-01  -3.8 4.15e+00    -  1.00e+00 1.00e+00h  1\n",
      "  52r 2.9413913e+05 1.04e-02 3.03e-02  -3.8 1.41e+00    -  1.00e+00 1.00e+00h  1\n",
      "  53r 2.9413772e+05 1.04e-02 1.07e-03  -3.8 1.68e-01    -  1.00e+00 1.00e+00h  1\n",
      "  54r 2.9415007e+05 1.04e-02 2.03e+00  -5.7 2.79e+00    -  1.00e+00 9.61e-01f  1\n",
      "  55r 2.9415093e+05 1.04e-02 4.66e+02  -5.7 1.01e+00    -  1.00e+00 2.96e-01h  1\n",
      "  56r 2.9414685e+05 1.04e-02 8.48e-02  -5.7 6.50e-01    -  1.00e+00 1.00e+00f  1\n",
      "  57r 2.9414370e+05 1.04e-02 5.52e-01  -5.7 4.53e-01    -  1.00e+00 1.00e+00h  1\n",
      "  58r 2.9414289e+05 1.04e-02 7.43e-03  -5.7 1.17e-01    -  1.00e+00 1.00e+00h  1\n",
      "  59r 2.9414288e+05 1.04e-02 2.16e-05  -5.7 1.64e-03    -  1.00e+00 1.00e+00h  1\n",
      "iter    objective    inf_pr   inf_du lg(mu)  ||d||  lg(rg) alpha_du alpha_pr  ls\n",
      "  60r 2.9413873e+05 1.04e-02 1.62e+01  -7.0 6.27e-01    -  1.00e+00 8.88e-01f  1\n",
      "  61r 2.9413786e+05 1.04e-02 9.15e-01  -7.0 1.26e-01    -  1.00e+00 1.00e+00f  1\n",
      "  62r 2.9413767e+05 1.04e-02 2.23e-01  -7.0 2.98e-02    -  1.00e+00 1.00e+00h  1\n",
      "  63r 2.9413761e+05 1.04e-02 2.04e-02  -7.0 9.41e-03    -  1.00e+00 1.00e+00h  1\n",
      "  64r 2.9413760e+05 1.04e-02 8.03e-06  -7.0 3.07e-04    -  1.00e+00 1.00e+00h  1\n",
      "\n",
      "Number of Iterations....: 64\n",
      "\n",
      "                                   (scaled)                 (unscaled)\n",
      "Objective...............:   2.9413760420015641e+05    2.9413760420015641e+05\n",
      "Dual infeasibility......:   6.9379193089505211e+00    6.9379193089505211e+00\n",
      "Constraint violation....:   1.0385070734626372e-02    1.0385070734626372e-02\n",
      "Complementarity.........:   9.0909090911341799e-08    9.0909090911341799e-08\n",
      "Overall NLP error.......:   6.9379193089505211e+00    6.9379193089505211e+00\n",
      "\n",
      "\n",
      "Number of objective function evaluations             = 88\n",
      "Number of objective gradient evaluations             = 37\n",
      "Number of equality constraint evaluations            = 88\n",
      "Number of inequality constraint evaluations          = 88\n",
      "Number of equality constraint Jacobian evaluations   = 72\n",
      "Number of inequality constraint Jacobian evaluations = 72\n",
      "Number of Lagrangian Hessian evaluations             = 65\n",
      "Total CPU secs in IPOPT (w/o function evaluations)   =      0.041\n",
      "Total CPU secs in NLP function evaluations           =      0.017\n",
      "\n",
      "EXIT: Converged to a point of local infeasibility. Problem may be infeasible.\n"
     ]
    },
    {
     "name": "stdout",
     "output_type": "stream",
     "text": [
      "WARNING: Loading a SolverResults object with a warning status into\n",
      "    model=unknown;\n",
      "        message from solver=Ipopt 3.13.2\\x3a Converged to a locally infeasible\n",
      "        point. Problem may be infeasible.\n"
     ]
    }
   ],
   "source": [
    "results = solver.solve(m, tee=True)"
   ]
  },
  {
   "cell_type": "code",
   "execution_count": 69,
   "metadata": {
    "tags": [
     "testing",
     "remove_cell"
    ]
   },
   "outputs": [
    {
     "ename": "AssertionError",
     "evalue": "",
     "output_type": "error",
     "traceback": [
      "\u001b[0;31m---------------------------------------------------------------------------\u001b[0m",
      "\u001b[0;31mAssertionError\u001b[0m                            Traceback (most recent call last)",
      "\u001b[0;32m<ipython-input-69-ad15efb766e0>\u001b[0m in \u001b[0;36m<module>\u001b[0;34m\u001b[0m\n\u001b[1;32m      1\u001b[0m \u001b[0;31m# Check for solver solve status\u001b[0m\u001b[0;34m\u001b[0m\u001b[0;34m\u001b[0m\u001b[0;34m\u001b[0m\u001b[0m\n\u001b[1;32m      2\u001b[0m \u001b[0;32mfrom\u001b[0m \u001b[0mpyomo\u001b[0m\u001b[0;34m.\u001b[0m\u001b[0menviron\u001b[0m \u001b[0;32mimport\u001b[0m \u001b[0mTerminationCondition\u001b[0m\u001b[0;34m\u001b[0m\u001b[0;34m\u001b[0m\u001b[0m\n\u001b[0;32m----> 3\u001b[0;31m \u001b[0;32massert\u001b[0m \u001b[0mresults\u001b[0m\u001b[0;34m.\u001b[0m\u001b[0msolver\u001b[0m\u001b[0;34m.\u001b[0m\u001b[0mtermination_condition\u001b[0m \u001b[0;34m==\u001b[0m \u001b[0mTerminationCondition\u001b[0m\u001b[0;34m.\u001b[0m\u001b[0moptimal\u001b[0m\u001b[0;34m\u001b[0m\u001b[0;34m\u001b[0m\u001b[0m\n\u001b[0m",
      "\u001b[0;31mAssertionError\u001b[0m: "
     ]
    }
   ],
   "source": [
    "# Check for solver solve status\n",
    "from pyomo.environ import TerminationCondition\n",
    "assert results.solver.termination_condition == TerminationCondition.optimal"
   ]
  },
  {
   "cell_type": "markdown",
   "metadata": {},
   "source": [
    "## Optimization Results\n",
    "\n",
    "Display the results and product specifications"
   ]
  },
  {
   "cell_type": "code",
   "execution_count": 70,
   "metadata": {},
   "outputs": [
    {
     "name": "stdout",
     "output_type": "stream",
     "text": [
      "operating cost = $ 294137.60420015646\n",
      "\n",
      "Product flow rate and purity in F102\n",
      "\n",
      "====================================================================================\n",
      "Unit : fs.F102                                                             Time: 0.0\n",
      "------------------------------------------------------------------------------------\n",
      "    Unit Performance\n",
      "\n",
      "    Variables: \n",
      "\n",
      "    Key             : Value       : Fixed : Bounds\n",
      "          Heat Duty :      7420.5 : False : (None, None)\n",
      "    Pressure Change : -2.4029e+05 : False : (None, None)\n",
      "\n",
      "------------------------------------------------------------------------------------\n",
      "    Stream Table\n",
      "                                               Inlet    Vapor Outlet  Liquid Outlet\n",
      "    flow_mol_phase_comp ('Liq', 'benzene')     0.21539   1.0000e-08      0.065387  \n",
      "    flow_mol_phase_comp ('Liq', 'toluene')    0.070087   1.0000e-08      0.037165  \n",
      "    flow_mol_phase_comp ('Vap', 'benzene')  1.0007e-08      0.15000    1.0000e-08  \n",
      "    flow_mol_phase_comp ('Vap', 'toluene')  9.9925e-09     0.032922    1.0000e-08  \n",
      "    flow_mol_phase_comp ('Vap', 'hydrogen') 9.9993e-09   1.0000e-08    1.0000e-08  \n",
      "    flow_mol_phase_comp ('Vap', 'methane')  1.0006e-08   1.0007e-08    1.0000e-08  \n",
      "    temperature                                 298.00       361.11        361.11  \n",
      "    pressure                                3.5000e+05   1.0971e+05    1.0971e+05  \n",
      "====================================================================================\n",
      "\n",
      "benzene purity =  0.8200232626943791\n",
      "\n",
      "Overhead loss in F101\n",
      "\n",
      "====================================================================================\n",
      "Unit : fs.F101                                                             Time: 0.0\n",
      "------------------------------------------------------------------------------------\n",
      "    Unit Performance\n",
      "\n",
      "    Variables: \n",
      "\n",
      "    Key             : Value   : Fixed : Bounds\n",
      "          Heat Duty : -44776. : False : (None, None)\n",
      "    Pressure Change :  0.0000 :  True : (None, None)\n",
      "\n",
      "------------------------------------------------------------------------------------\n",
      "    Stream Table\n",
      "                                               Inlet    Vapor Outlet  Liquid Outlet\n",
      "    flow_mol_phase_comp ('Liq', 'benzene')      0.0000   1.0000e-08       0.21539  \n",
      "    flow_mol_phase_comp ('Liq', 'toluene')      0.0000   1.0000e-08      0.070087  \n",
      "    flow_mol_phase_comp ('Vap', 'benzene')     0.28222     0.066828    1.0000e-08  \n",
      "    flow_mol_phase_comp ('Vap', 'toluene')    0.076238    0.0061511    1.0000e-08  \n",
      "    flow_mol_phase_comp ('Vap', 'hydrogen')    0.35648      0.35648    1.0000e-08  \n",
      "    flow_mol_phase_comp ('Vap', 'methane')      1.2436       1.2436    1.0000e-08  \n",
      "    temperature                                 608.73       298.00        298.00  \n",
      "    pressure                                3.5000e+05   3.5000e+05    3.5000e+05  \n",
      "====================================================================================\n"
     ]
    }
   ],
   "source": [
    "print('operating cost = $', value(m.fs.operating_cost))\n",
    "\n",
    "print()\n",
    "print('Product flow rate and purity in F102')\n",
    "\n",
    "m.fs.F102.report()\n",
    "\n",
    "print()\n",
    "print('benzene purity = ', value(m.fs.purity))\n",
    "\n",
    "print()\n",
    "print('Overhead loss in F101')\n",
    "m.fs.F101.report()"
   ]
  },
  {
   "cell_type": "code",
   "execution_count": 71,
   "metadata": {
    "tags": [
     "testing",
     "remove_cell"
    ]
   },
   "outputs": [
    {
     "ename": "AssertionError",
     "evalue": "",
     "output_type": "error",
     "traceback": [
      "\u001b[0;31m---------------------------------------------------------------------------\u001b[0m",
      "\u001b[0;31mAssertionError\u001b[0m                            Traceback (most recent call last)",
      "\u001b[0;32m<ipython-input-71-8defc883aa67>\u001b[0m in \u001b[0;36m<module>\u001b[0;34m\u001b[0m\n\u001b[0;32m----> 1\u001b[0;31m \u001b[0;32massert\u001b[0m \u001b[0mvalue\u001b[0m\u001b[0;34m(\u001b[0m\u001b[0mm\u001b[0m\u001b[0;34m.\u001b[0m\u001b[0mfs\u001b[0m\u001b[0;34m.\u001b[0m\u001b[0moperating_cost\u001b[0m\u001b[0;34m)\u001b[0m \u001b[0;34m==\u001b[0m \u001b[0mpytest\u001b[0m\u001b[0;34m.\u001b[0m\u001b[0mapprox\u001b[0m\u001b[0;34m(\u001b[0m\u001b[0;36m312786.338\u001b[0m\u001b[0;34m,\u001b[0m \u001b[0mabs\u001b[0m\u001b[0;34m=\u001b[0m\u001b[0;36m1e-3\u001b[0m\u001b[0;34m)\u001b[0m\u001b[0;34m\u001b[0m\u001b[0;34m\u001b[0m\u001b[0m\n\u001b[0m\u001b[1;32m      2\u001b[0m \u001b[0;32massert\u001b[0m \u001b[0mvalue\u001b[0m\u001b[0;34m(\u001b[0m\u001b[0mm\u001b[0m\u001b[0;34m.\u001b[0m\u001b[0mfs\u001b[0m\u001b[0;34m.\u001b[0m\u001b[0mpurity\u001b[0m\u001b[0;34m)\u001b[0m \u001b[0;34m==\u001b[0m \u001b[0mpytest\u001b[0m\u001b[0;34m.\u001b[0m\u001b[0mapprox\u001b[0m\u001b[0;34m(\u001b[0m\u001b[0;36m0.818827\u001b[0m\u001b[0;34m,\u001b[0m \u001b[0mabs\u001b[0m\u001b[0;34m=\u001b[0m\u001b[0;36m1e-3\u001b[0m\u001b[0;34m)\u001b[0m\u001b[0;34m\u001b[0m\u001b[0;34m\u001b[0m\u001b[0m\n",
      "\u001b[0;31mAssertionError\u001b[0m: "
     ]
    }
   ],
   "source": [
    "assert value(m.fs.operating_cost) == pytest.approx(312786.338, abs=1e-3)\n",
    "assert value(m.fs.purity) == pytest.approx(0.818827, abs=1e-3)"
   ]
  },
  {
   "cell_type": "markdown",
   "metadata": {},
   "source": [
    "Display optimal values for the decision variables"
   ]
  },
  {
   "cell_type": "code",
   "execution_count": null,
   "metadata": {},
   "outputs": [],
   "source": [
    "print('Optimal Values')\n",
    "print()\n",
    "\n",
    "print('H101 outlet temperature = ', value(m.fs.H101.outlet.temperature[0]), 'K')\n",
    "\n",
    "print()\n",
    "print('R101 outlet temperature = ', value(m.fs.R101.outlet.temperature[0]), 'K')\n",
    "\n",
    "print()\n",
    "print('F101 outlet temperature = ', value(m.fs.F101.vap_outlet.temperature[0]), 'K')\n",
    "\n",
    "print()\n",
    "print('F102 outlet temperature = ', value(m.fs.F102.vap_outlet.temperature[0]), 'K')\n",
    "print('F102 outlet pressure = ', value(m.fs.F102.vap_outlet.pressure[0]), 'Pa')"
   ]
  },
  {
   "cell_type": "code",
   "execution_count": null,
   "metadata": {
    "tags": [
     "testing",
     "remove_cell"
    ]
   },
   "outputs": [],
   "source": [
    "assert value(m.fs.H101.outlet.temperature[0]) == pytest.approx(500, abs=1e-3)\n",
    "assert value(m.fs.R101.outlet.temperature[0]) == pytest.approx(696.116, abs=1e-3)\n",
    "assert value(m.fs.F101.vap_outlet.temperature[0]) == pytest.approx(301.878, abs=1e-3)\n",
    "assert value(m.fs.F102.vap_outlet.temperature[0]) == pytest.approx(362.93476, abs=1e-3)\n",
    "assert value(m.fs.F102.vap_outlet.pressure[0]) == pytest.approx(105000, abs=1e-2)"
   ]
  }
 ],
 "metadata": {
  "celltoolbar": "Tags",
  "kernelspec": {
   "display_name": "Python 3",
   "language": "python",
   "name": "python3"
  },
  "language_info": {
   "codemirror_mode": {
    "name": "ipython",
    "version": 3
   },
   "file_extension": ".py",
   "mimetype": "text/x-python",
   "name": "python",
   "nbconvert_exporter": "python",
   "pygments_lexer": "ipython3",
   "version": "3.7.6"
  }
 },
 "nbformat": 4,
 "nbformat_minor": 4
}
